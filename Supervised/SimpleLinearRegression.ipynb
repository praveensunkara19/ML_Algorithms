{
 "cells": [
  {
   "cell_type": "code",
   "execution_count": 1,
   "id": "284c6f4a",
   "metadata": {},
   "outputs": [],
   "source": [
    "import pandas as pd\n",
    "import numpy as np"
   ]
  },
  {
   "cell_type": "code",
   "execution_count": 2,
   "id": "50900d8e",
   "metadata": {},
   "outputs": [
    {
     "data": {
      "text/html": [
       "<div>\n",
       "<style scoped>\n",
       "    .dataframe tbody tr th:only-of-type {\n",
       "        vertical-align: middle;\n",
       "    }\n",
       "\n",
       "    .dataframe tbody tr th {\n",
       "        vertical-align: top;\n",
       "    }\n",
       "\n",
       "    .dataframe thead th {\n",
       "        text-align: right;\n",
       "    }\n",
       "</style>\n",
       "<table border=\"1\" class=\"dataframe\">\n",
       "  <thead>\n",
       "    <tr style=\"text-align: right;\">\n",
       "      <th></th>\n",
       "      <th>price</th>\n",
       "      <th>area</th>\n",
       "      <th>bedrooms</th>\n",
       "      <th>bathrooms</th>\n",
       "      <th>stories</th>\n",
       "      <th>mainroad</th>\n",
       "      <th>guestroom</th>\n",
       "      <th>basement</th>\n",
       "      <th>hotwaterheating</th>\n",
       "      <th>airconditioning</th>\n",
       "      <th>parking</th>\n",
       "      <th>prefarea</th>\n",
       "      <th>furnishingstatus</th>\n",
       "    </tr>\n",
       "  </thead>\n",
       "  <tbody>\n",
       "    <tr>\n",
       "      <th>0</th>\n",
       "      <td>13300000</td>\n",
       "      <td>7420</td>\n",
       "      <td>4</td>\n",
       "      <td>2</td>\n",
       "      <td>3</td>\n",
       "      <td>yes</td>\n",
       "      <td>no</td>\n",
       "      <td>no</td>\n",
       "      <td>no</td>\n",
       "      <td>yes</td>\n",
       "      <td>2</td>\n",
       "      <td>yes</td>\n",
       "      <td>furnished</td>\n",
       "    </tr>\n",
       "    <tr>\n",
       "      <th>1</th>\n",
       "      <td>12250000</td>\n",
       "      <td>8960</td>\n",
       "      <td>4</td>\n",
       "      <td>4</td>\n",
       "      <td>4</td>\n",
       "      <td>yes</td>\n",
       "      <td>no</td>\n",
       "      <td>no</td>\n",
       "      <td>no</td>\n",
       "      <td>yes</td>\n",
       "      <td>3</td>\n",
       "      <td>no</td>\n",
       "      <td>furnished</td>\n",
       "    </tr>\n",
       "    <tr>\n",
       "      <th>2</th>\n",
       "      <td>12250000</td>\n",
       "      <td>9960</td>\n",
       "      <td>3</td>\n",
       "      <td>2</td>\n",
       "      <td>2</td>\n",
       "      <td>yes</td>\n",
       "      <td>no</td>\n",
       "      <td>yes</td>\n",
       "      <td>no</td>\n",
       "      <td>no</td>\n",
       "      <td>2</td>\n",
       "      <td>yes</td>\n",
       "      <td>semi-furnished</td>\n",
       "    </tr>\n",
       "    <tr>\n",
       "      <th>3</th>\n",
       "      <td>12215000</td>\n",
       "      <td>7500</td>\n",
       "      <td>4</td>\n",
       "      <td>2</td>\n",
       "      <td>2</td>\n",
       "      <td>yes</td>\n",
       "      <td>no</td>\n",
       "      <td>yes</td>\n",
       "      <td>no</td>\n",
       "      <td>yes</td>\n",
       "      <td>3</td>\n",
       "      <td>yes</td>\n",
       "      <td>furnished</td>\n",
       "    </tr>\n",
       "    <tr>\n",
       "      <th>4</th>\n",
       "      <td>11410000</td>\n",
       "      <td>7420</td>\n",
       "      <td>4</td>\n",
       "      <td>1</td>\n",
       "      <td>2</td>\n",
       "      <td>yes</td>\n",
       "      <td>yes</td>\n",
       "      <td>yes</td>\n",
       "      <td>no</td>\n",
       "      <td>yes</td>\n",
       "      <td>2</td>\n",
       "      <td>no</td>\n",
       "      <td>furnished</td>\n",
       "    </tr>\n",
       "    <tr>\n",
       "      <th>...</th>\n",
       "      <td>...</td>\n",
       "      <td>...</td>\n",
       "      <td>...</td>\n",
       "      <td>...</td>\n",
       "      <td>...</td>\n",
       "      <td>...</td>\n",
       "      <td>...</td>\n",
       "      <td>...</td>\n",
       "      <td>...</td>\n",
       "      <td>...</td>\n",
       "      <td>...</td>\n",
       "      <td>...</td>\n",
       "      <td>...</td>\n",
       "    </tr>\n",
       "    <tr>\n",
       "      <th>540</th>\n",
       "      <td>1820000</td>\n",
       "      <td>3000</td>\n",
       "      <td>2</td>\n",
       "      <td>1</td>\n",
       "      <td>1</td>\n",
       "      <td>yes</td>\n",
       "      <td>no</td>\n",
       "      <td>yes</td>\n",
       "      <td>no</td>\n",
       "      <td>no</td>\n",
       "      <td>2</td>\n",
       "      <td>no</td>\n",
       "      <td>unfurnished</td>\n",
       "    </tr>\n",
       "    <tr>\n",
       "      <th>541</th>\n",
       "      <td>1767150</td>\n",
       "      <td>2400</td>\n",
       "      <td>3</td>\n",
       "      <td>1</td>\n",
       "      <td>1</td>\n",
       "      <td>no</td>\n",
       "      <td>no</td>\n",
       "      <td>no</td>\n",
       "      <td>no</td>\n",
       "      <td>no</td>\n",
       "      <td>0</td>\n",
       "      <td>no</td>\n",
       "      <td>semi-furnished</td>\n",
       "    </tr>\n",
       "    <tr>\n",
       "      <th>542</th>\n",
       "      <td>1750000</td>\n",
       "      <td>3620</td>\n",
       "      <td>2</td>\n",
       "      <td>1</td>\n",
       "      <td>1</td>\n",
       "      <td>yes</td>\n",
       "      <td>no</td>\n",
       "      <td>no</td>\n",
       "      <td>no</td>\n",
       "      <td>no</td>\n",
       "      <td>0</td>\n",
       "      <td>no</td>\n",
       "      <td>unfurnished</td>\n",
       "    </tr>\n",
       "    <tr>\n",
       "      <th>543</th>\n",
       "      <td>1750000</td>\n",
       "      <td>2910</td>\n",
       "      <td>3</td>\n",
       "      <td>1</td>\n",
       "      <td>1</td>\n",
       "      <td>no</td>\n",
       "      <td>no</td>\n",
       "      <td>no</td>\n",
       "      <td>no</td>\n",
       "      <td>no</td>\n",
       "      <td>0</td>\n",
       "      <td>no</td>\n",
       "      <td>furnished</td>\n",
       "    </tr>\n",
       "    <tr>\n",
       "      <th>544</th>\n",
       "      <td>1750000</td>\n",
       "      <td>3850</td>\n",
       "      <td>3</td>\n",
       "      <td>1</td>\n",
       "      <td>2</td>\n",
       "      <td>yes</td>\n",
       "      <td>no</td>\n",
       "      <td>no</td>\n",
       "      <td>no</td>\n",
       "      <td>no</td>\n",
       "      <td>0</td>\n",
       "      <td>no</td>\n",
       "      <td>unfurnished</td>\n",
       "    </tr>\n",
       "  </tbody>\n",
       "</table>\n",
       "<p>545 rows × 13 columns</p>\n",
       "</div>"
      ],
      "text/plain": [
       "        price  area  bedrooms  bathrooms  stories mainroad guestroom basement  \\\n",
       "0    13300000  7420         4          2        3      yes        no       no   \n",
       "1    12250000  8960         4          4        4      yes        no       no   \n",
       "2    12250000  9960         3          2        2      yes        no      yes   \n",
       "3    12215000  7500         4          2        2      yes        no      yes   \n",
       "4    11410000  7420         4          1        2      yes       yes      yes   \n",
       "..        ...   ...       ...        ...      ...      ...       ...      ...   \n",
       "540   1820000  3000         2          1        1      yes        no      yes   \n",
       "541   1767150  2400         3          1        1       no        no       no   \n",
       "542   1750000  3620         2          1        1      yes        no       no   \n",
       "543   1750000  2910         3          1        1       no        no       no   \n",
       "544   1750000  3850         3          1        2      yes        no       no   \n",
       "\n",
       "    hotwaterheating airconditioning  parking prefarea furnishingstatus  \n",
       "0                no             yes        2      yes        furnished  \n",
       "1                no             yes        3       no        furnished  \n",
       "2                no              no        2      yes   semi-furnished  \n",
       "3                no             yes        3      yes        furnished  \n",
       "4                no             yes        2       no        furnished  \n",
       "..              ...             ...      ...      ...              ...  \n",
       "540              no              no        2       no      unfurnished  \n",
       "541              no              no        0       no   semi-furnished  \n",
       "542              no              no        0       no      unfurnished  \n",
       "543              no              no        0       no        furnished  \n",
       "544              no              no        0       no      unfurnished  \n",
       "\n",
       "[545 rows x 13 columns]"
      ]
     },
     "execution_count": 2,
     "metadata": {},
     "output_type": "execute_result"
    }
   ],
   "source": [
    "df = pd.read_csv(\"C:\\\\Users\\\\prave\\\\OneDrive\\\\Desktop\\\\Git\\\\MachineLearning\\\\Datasets\\Housing.csv\")\n",
    "df"
   ]
  },
  {
   "cell_type": "code",
   "execution_count": 3,
   "id": "9b00b1c5",
   "metadata": {},
   "outputs": [
    {
     "name": "stdout",
     "output_type": "stream",
     "text": [
      "<class 'pandas.core.frame.DataFrame'>\n",
      "RangeIndex: 545 entries, 0 to 544\n",
      "Data columns (total 13 columns):\n",
      " #   Column            Non-Null Count  Dtype \n",
      "---  ------            --------------  ----- \n",
      " 0   price             545 non-null    int64 \n",
      " 1   area              545 non-null    int64 \n",
      " 2   bedrooms          545 non-null    int64 \n",
      " 3   bathrooms         545 non-null    int64 \n",
      " 4   stories           545 non-null    int64 \n",
      " 5   mainroad          545 non-null    object\n",
      " 6   guestroom         545 non-null    object\n",
      " 7   basement          545 non-null    object\n",
      " 8   hotwaterheating   545 non-null    object\n",
      " 9   airconditioning   545 non-null    object\n",
      " 10  parking           545 non-null    int64 \n",
      " 11  prefarea          545 non-null    object\n",
      " 12  furnishingstatus  545 non-null    object\n",
      "dtypes: int64(6), object(7)\n",
      "memory usage: 55.5+ KB\n"
     ]
    }
   ],
   "source": [
    "df.info()"
   ]
  },
  {
   "cell_type": "code",
   "execution_count": 4,
   "id": "ae0650e1",
   "metadata": {},
   "outputs": [
    {
     "data": {
      "text/html": [
       "<div>\n",
       "<style scoped>\n",
       "    .dataframe tbody tr th:only-of-type {\n",
       "        vertical-align: middle;\n",
       "    }\n",
       "\n",
       "    .dataframe tbody tr th {\n",
       "        vertical-align: top;\n",
       "    }\n",
       "\n",
       "    .dataframe thead th {\n",
       "        text-align: right;\n",
       "    }\n",
       "</style>\n",
       "<table border=\"1\" class=\"dataframe\">\n",
       "  <thead>\n",
       "    <tr style=\"text-align: right;\">\n",
       "      <th></th>\n",
       "      <th>price</th>\n",
       "      <th>area</th>\n",
       "    </tr>\n",
       "  </thead>\n",
       "  <tbody>\n",
       "    <tr>\n",
       "      <th>0</th>\n",
       "      <td>13300000</td>\n",
       "      <td>7420</td>\n",
       "    </tr>\n",
       "    <tr>\n",
       "      <th>1</th>\n",
       "      <td>12250000</td>\n",
       "      <td>8960</td>\n",
       "    </tr>\n",
       "    <tr>\n",
       "      <th>2</th>\n",
       "      <td>12250000</td>\n",
       "      <td>9960</td>\n",
       "    </tr>\n",
       "    <tr>\n",
       "      <th>3</th>\n",
       "      <td>12215000</td>\n",
       "      <td>7500</td>\n",
       "    </tr>\n",
       "    <tr>\n",
       "      <th>4</th>\n",
       "      <td>11410000</td>\n",
       "      <td>7420</td>\n",
       "    </tr>\n",
       "    <tr>\n",
       "      <th>...</th>\n",
       "      <td>...</td>\n",
       "      <td>...</td>\n",
       "    </tr>\n",
       "    <tr>\n",
       "      <th>540</th>\n",
       "      <td>1820000</td>\n",
       "      <td>3000</td>\n",
       "    </tr>\n",
       "    <tr>\n",
       "      <th>541</th>\n",
       "      <td>1767150</td>\n",
       "      <td>2400</td>\n",
       "    </tr>\n",
       "    <tr>\n",
       "      <th>542</th>\n",
       "      <td>1750000</td>\n",
       "      <td>3620</td>\n",
       "    </tr>\n",
       "    <tr>\n",
       "      <th>543</th>\n",
       "      <td>1750000</td>\n",
       "      <td>2910</td>\n",
       "    </tr>\n",
       "    <tr>\n",
       "      <th>544</th>\n",
       "      <td>1750000</td>\n",
       "      <td>3850</td>\n",
       "    </tr>\n",
       "  </tbody>\n",
       "</table>\n",
       "<p>545 rows × 2 columns</p>\n",
       "</div>"
      ],
      "text/plain": [
       "        price  area\n",
       "0    13300000  7420\n",
       "1    12250000  8960\n",
       "2    12250000  9960\n",
       "3    12215000  7500\n",
       "4    11410000  7420\n",
       "..        ...   ...\n",
       "540   1820000  3000\n",
       "541   1767150  2400\n",
       "542   1750000  3620\n",
       "543   1750000  2910\n",
       "544   1750000  3850\n",
       "\n",
       "[545 rows x 2 columns]"
      ]
     },
     "execution_count": 4,
     "metadata": {},
     "output_type": "execute_result"
    }
   ],
   "source": [
    "df[['price','area']]"
   ]
  },
  {
   "cell_type": "markdown",
   "id": "2c2d2d37",
   "metadata": {},
   "source": [
    "### divide the data into x and y\n",
    "\n",
    "### input (x) should always be a 2 dimensional numpy array            2D - [[0]] - for 1 column  , [0:3] - for multiple columns (we take range)\n",
    "### output (y) should be 1 dimensional"
   ]
  },
  {
   "cell_type": "code",
   "execution_count": 23,
   "id": "7fafed03",
   "metadata": {},
   "outputs": [],
   "source": [
    "# x = df['area']  #--2D [[]]\n",
    "x = df.iloc[:,[1]]  #iloc(row,col)-integer-location based  --1D\n",
    "\n",
    "# y = df['price']  #--2D [[]]\n",
    "y = df.iloc[:,[0]]  #iloc(row,col)-integer-location based  --1D\n",
    "\n"
   ]
  },
  {
   "cell_type": "code",
   "execution_count": 24,
   "id": "342cfe7f",
   "metadata": {},
   "outputs": [
    {
     "name": "stdout",
     "output_type": "stream",
     "text": [
      "2\n",
      "2\n"
     ]
    }
   ],
   "source": [
    "print(x.ndim)\n",
    "print(y.ndim)\n"
   ]
  },
  {
   "cell_type": "code",
   "execution_count": 26,
   "id": "c356086d",
   "metadata": {},
   "outputs": [],
   "source": [
    "y = y.values.reshape(-1)"
   ]
  },
  {
   "cell_type": "code",
   "execution_count": 27,
   "id": "9ad2db30",
   "metadata": {},
   "outputs": [
    {
     "data": {
      "text/plain": [
       "1"
      ]
     },
     "execution_count": 27,
     "metadata": {},
     "output_type": "execute_result"
    }
   ],
   "source": [
    "y.ndim"
   ]
  },
  {
   "cell_type": "code",
   "execution_count": 28,
   "id": "09426650",
   "metadata": {},
   "outputs": [
    {
     "data": {
      "text/plain": [
       "<matplotlib.collections.PathCollection at 0x1f789981100>"
      ]
     },
     "execution_count": 28,
     "metadata": {},
     "output_type": "execute_result"
    },
    {
     "data": {
      "image/png": "[encoded data removed]",
      "text/plain": [
       "<Figure size 640x480 with 1 Axes>"
      ]
     },
     "metadata": {},
     "output_type": "display_data"
    }
   ],
   "source": [
    "import matplotlib.pyplot as plt\n",
    "plt.xlabel('Area')\n",
    "plt.ylabel('Price')\n",
    "plt.scatter(x,y)"
   ]
  },
  {
   "cell_type": "code",
   "execution_count": 29,
   "id": "a81c6792",
   "metadata": {},
   "outputs": [],
   "source": [
    "from sklearn import linear_model"
   ]
  },
  {
   "cell_type": "code",
   "execution_count": 30,
   "id": "e0f8c97a",
   "metadata": {},
   "outputs": [],
   "source": [
    "reg_model = linear_model.LinearRegression()"
   ]
  },
  {
   "cell_type": "code",
   "execution_count": 31,
   "id": "1d22bcc8",
   "metadata": {},
   "outputs": [
    {
     "data": {
      "text/html": [
       "<style>#sk-container-id-1 {color: black;}#sk-container-id-1 pre{padding: 0;}#sk-container-id-1 div.sk-toggleable {background-color: white;}#sk-container-id-1 label.sk-toggleable__label {cursor: pointer;display: block;width: 100%;margin-bottom: 0;padding: 0.3em;box-sizing: border-box;text-align: center;}#sk-container-id-1 label.sk-toggleable__label-arrow:before {content: \"▸\";float: left;margin-right: 0.25em;color: #696969;}#sk-container-id-1 label.sk-toggleable__label-arrow:hover:before {color: black;}#sk-container-id-1 div.sk-estimator:hover label.sk-toggleable__label-arrow:before {color: black;}#sk-container-id-1 div.sk-toggleable__content {max-height: 0;max-width: 0;overflow: hidden;text-align: left;background-color: #f0f8ff;}#sk-container-id-1 div.sk-toggleable__content pre {margin: 0.2em;color: black;border-radius: 0.25em;background-color: #f0f8ff;}#sk-container-id-1 input.sk-toggleable__control:checked~div.sk-toggleable__content {max-height: 200px;max-width: 100%;overflow: auto;}#sk-container-id-1 input.sk-toggleable__control:checked~label.sk-toggleable__label-arrow:before {content: \"▾\";}#sk-container-id-1 div.sk-estimator input.sk-toggleable__control:checked~label.sk-toggleable__label {background-color: #d4ebff;}#sk-container-id-1 div.sk-label input.sk-toggleable__control:checked~label.sk-toggleable__label {background-color: #d4ebff;}#sk-container-id-1 input.sk-hidden--visually {border: 0;clip: rect(1px 1px 1px 1px);clip: rect(1px, 1px, 1px, 1px);height: 1px;margin: -1px;overflow: hidden;padding: 0;position: absolute;width: 1px;}#sk-container-id-1 div.sk-estimator {font-family: monospace;background-color: #f0f8ff;border: 1px dotted black;border-radius: 0.25em;box-sizing: border-box;margin-bottom: 0.5em;}#sk-container-id-1 div.sk-estimator:hover {background-color: #d4ebff;}#sk-container-id-1 div.sk-parallel-item::after {content: \"\";width: 100%;border-bottom: 1px solid gray;flex-grow: 1;}#sk-container-id-1 div.sk-label:hover label.sk-toggleable__label {background-color: #d4ebff;}#sk-container-id-1 div.sk-serial::before {content: \"\";position: absolute;border-left: 1px solid gray;box-sizing: border-box;top: 0;bottom: 0;left: 50%;z-index: 0;}#sk-container-id-1 div.sk-serial {display: flex;flex-direction: column;align-items: center;background-color: white;padding-right: 0.2em;padding-left: 0.2em;position: relative;}#sk-container-id-1 div.sk-item {position: relative;z-index: 1;}#sk-container-id-1 div.sk-parallel {display: flex;align-items: stretch;justify-content: center;background-color: white;position: relative;}#sk-container-id-1 div.sk-item::before, #sk-container-id-1 div.sk-parallel-item::before {content: \"\";position: absolute;border-left: 1px solid gray;box-sizing: border-box;top: 0;bottom: 0;left: 50%;z-index: -1;}#sk-container-id-1 div.sk-parallel-item {display: flex;flex-direction: column;z-index: 1;position: relative;background-color: white;}#sk-container-id-1 div.sk-parallel-item:first-child::after {align-self: flex-end;width: 50%;}#sk-container-id-1 div.sk-parallel-item:last-child::after {align-self: flex-start;width: 50%;}#sk-container-id-1 div.sk-parallel-item:only-child::after {width: 0;}#sk-container-id-1 div.sk-dashed-wrapped {border: 1px dashed gray;margin: 0 0.4em 0.5em 0.4em;box-sizing: border-box;padding-bottom: 0.4em;background-color: white;}#sk-container-id-1 div.sk-label label {font-family: monospace;font-weight: bold;display: inline-block;line-height: 1.2em;}#sk-container-id-1 div.sk-label-container {text-align: center;}#sk-container-id-1 div.sk-container {/* jupyter's `normalize.less` sets `[hidden] { display: none; }` but bootstrap.min.css set `[hidden] { display: none !important; }` so we also need the `!important` here to be able to override the default hidden behavior on the sphinx rendered scikit-learn.org. See: https://github.com/scikit-learn/scikit-learn/issues/21755 */display: inline-block !important;position: relative;}#sk-container-id-1 div.sk-text-repr-fallback {display: none;}</style><div id=\"sk-container-id-1\" class=\"sk-top-container\"><div class=\"sk-text-repr-fallback\"><pre>LinearRegression()</pre><b>In a Jupyter environment, please rerun this cell to show the HTML representation or trust the notebook. <br />On GitHub, the HTML representation is unable to render, please try loading this page with nbviewer.org.</b></div><div class=\"sk-container\" hidden><div class=\"sk-item\"><div class=\"sk-estimator sk-toggleable\"><input class=\"sk-toggleable__control sk-hidden--visually\" id=\"sk-estimator-id-1\" type=\"checkbox\" checked><label for=\"sk-estimator-id-1\" class=\"sk-toggleable__label sk-toggleable__label-arrow\">LinearRegression</label><div class=\"sk-toggleable__content\"><pre>LinearRegression()</pre></div></div></div></div></div>"
      ],
      "text/plain": [
       "LinearRegression()"
      ]
     },
     "execution_count": 31,
     "metadata": {},
     "output_type": "execute_result"
    }
   ],
   "source": [
    "reg_model.fit(x,y)"
   ]
  },
  {
   "cell_type": "code",
   "execution_count": 32,
   "id": "a9ee0060",
   "metadata": {},
   "outputs": [],
   "source": [
    "y_pred = reg_model.predict(x)"
   ]
  },
  {
   "cell_type": "code",
   "execution_count": 33,
   "id": "0e1350e7",
   "metadata": {},
   "outputs": [
    {
     "data": {
      "text/plain": [
       "array([5815162.19790048, 6526603.53508057, 6988578.42935335,\n",
       "       5852120.18944231, 5815162.19790048, 5852120.18944231,\n",
       "       6351053.07525691, 9871301.76961552, 6129305.12600598,\n",
       "       5043664.12446493, 8485377.08679717, 5159157.84803313,\n",
       "       5413244.03988316, 4004220.61235117, 5990712.65772414,\n",
       "       5159157.84803313, 5436342.7845968 , 6314095.08371509,\n",
       "       4512392.99605123, 5353187.3036277 , 4383040.02565485,\n",
       "       5692738.8509182 , 6106206.38129234, 4493914.00028032,\n",
       "       6452687.55199692, 5408624.29094043, 5159157.84803313,\n",
       "       6487335.66906738, 6060008.89186506, 4928170.40089674,\n",
       "       5840570.81708549, 5621132.74230591, 4641745.96644761,\n",
       "       5140678.85226222, 5547216.75922227, 5621132.74230591,\n",
       "       5843804.6413454 , 6545082.53085148, 5159157.84803313,\n",
       "       5159157.84803313, 5413244.03988316, 5325468.80997133,\n",
       "       5380905.79728407, 5159157.84803313, 5159157.84803313,\n",
       "       5159157.84803313, 5159157.84803313, 5436342.7845968 ,\n",
       "       4373800.5277694 , 5824401.69578594, 5824401.69578594,\n",
       "       5309299.68867179, 5159157.84803313, 4766479.18790126,\n",
       "       5159157.84803313, 5159157.84803313, 7672301.27287707,\n",
       "       6545082.53085148, 5935275.67041141, 5159157.84803313,\n",
       "       5159157.84803313, 6489645.54353875, 5270031.8226586 ,\n",
       "       5325468.80997133, 7549877.92589478, 6489645.54353875,\n",
       "       8485377.08679717, 5944515.16829686, 5159157.84803313,\n",
       "       7972584.95415438, 4235208.05948756, 5159157.84803313,\n",
       "       4706422.4516458 , 5436342.7845968 , 4253687.05525848,\n",
       "       4355321.53199849, 5353187.3036277 , 5390145.29516952,\n",
       "       5020565.3797513 , 5159157.84803313, 5159157.84803313,\n",
       "       4235208.05948756, 7238044.87226066, 5159157.84803313,\n",
       "       4124334.0848621 , 6198601.36014689, 5468681.0271959 ,\n",
       "       4216729.06371665, 5810542.44895776, 6351053.07525691,\n",
       "       4697182.95376035, 5505639.01873772, 4604787.97490579,\n",
       "       5713527.72116047, 5159157.84803313, 4281405.54891484,\n",
       "       6545082.53085148, 5343947.80574224, 5436342.7845968 ,\n",
       "       5159157.84803313, 5436342.7845968 , 4928170.40089674,\n",
       "       4928170.40089674, 5320849.06102861, 4928170.40089674,\n",
       "       4466195.50662396, 4905071.6561831 , 5353187.3036277 ,\n",
       "       3884107.13984025, 5443272.40801089, 5436342.7845968 ,\n",
       "       6254962.29724817, 4373800.5277694 , 6831506.96530061,\n",
       "       5528737.76345136, 6083107.6365787 , 5574935.25287864,\n",
       "       4096615.59120573, 5353187.3036277 , 5630372.24019137,\n",
       "       5408624.29094043, 5727848.94288293, 5276499.47117842,\n",
       "       5768964.7084732 , 5401694.66752634, 9594116.83305185,\n",
       "       5695048.72538956, 5390145.29516952, 4928170.40089674,\n",
       "       7681540.77076253, 4604787.97490579, 5079698.16621821,\n",
       "       4789577.9326149 , 4604787.97490579, 5621132.74230591,\n",
       "       5159157.84803313, 4881972.91146946, 4530871.99182215,\n",
       "       4697182.95376035, 5325468.80997133, 5066762.86917857,\n",
       "       5464061.27825317, 7238044.87226066, 4604787.97490579,\n",
       "       4558590.48547851, 4697182.95376035, 7238044.87226066,\n",
       "       4928170.40089674, 5325468.80997133, 5436342.7845968 ,\n",
       "       4760011.53938145, 4419998.01719668, 4881972.91146946,\n",
       "       3911825.63349662, 4073516.84649209, 5205355.33746041,\n",
       "       5574935.25287864, 3688691.75956286, 6073868.13869324,\n",
       "       3842529.3993557 , 5256172.57583041, 5205355.33746041,\n",
       "       5436342.7845968 , 5540287.13580818, 5487160.02296681,\n",
       "       5367046.55045588, 5990712.65772414, 4512392.99605123,\n",
       "       4355321.53199849, 5408624.29094043, 4928170.40089674,\n",
       "       7131328.67168364, 6267897.59428781, 4835775.42204218,\n",
       "       4142813.08063301, 6914662.44626971, 6323334.58160054,\n",
       "       5182256.59274677, 5660400.6083191 , 3856388.64618388,\n",
       "       4466195.50662396, 5713527.72116047, 3962642.87186662,\n",
       "       6073868.13869324, 3773233.16521478, 3773233.16521478,\n",
       "       7658442.02604889, 5205355.33746041, 5029804.87763675,\n",
       "       4022699.60812208, 5898317.67886958, 7330439.85111521,\n",
       "       5436342.7845968 , 4604787.97490579, 6152403.87071962,\n",
       "       4424617.7661394 , 5938047.51977704, 3680838.18636022,\n",
       "       5135135.15353095, 4327603.03834212, 4475435.00450941,\n",
       "       4279095.67444348, 4290645.0468003 , 4881972.91146946,\n",
       "       4590928.72807761, 5297750.31631497, 5066762.86917857,\n",
       "       3773233.16521478, 3759373.9183866 , 5491779.77190953,\n",
       "       4533643.84118778, 8346784.61851534, 3967262.62080935,\n",
       "       4694873.07928898, 4396899.27248304, 4309124.04257121,\n",
       "       5177636.84380404, 5557380.20689627, 4611717.59831988,\n",
       "       5621132.74230591, 6129305.12600598, 3967262.62080935,\n",
       "       6621770.36330076, 5307451.78909469, 7117931.39974973,\n",
       "       5362426.80151316, 4775718.68578672, 5159157.84803313,\n",
       "       4064277.34860663, 6853219.78533143, 4881972.91146946,\n",
       "       4383040.02565485, 4117404.461448  , 4309124.04257121,\n",
       "       4179771.07217483, 5011325.88186584, 3713176.42895932,\n",
       "       4701802.70270308, 4470815.25556668, 4235208.05948756,\n",
       "       4161292.07640392, 4124334.0848621 , 4068897.09754936,\n",
       "       3565344.46279203, 4845014.91992764, 4863493.91569855,\n",
       "       4013460.11023663, 6267897.59428781, 4281405.54891484,\n",
       "       4692563.20481762, 4008840.3612939 , 3981121.86763753,\n",
       "       6942380.93992607, 4013460.11023663, 4470815.25556668,\n",
       "       5106030.73519176, 4235208.05948756, 6198601.36014689,\n",
       "       4253687.05525848, 5325468.80997133, 3848073.09808697,\n",
       "       4008840.3612939 , 4119714.33591937, 4220424.86287083,\n",
       "       4650985.46433307, 3717796.17790205, 4641745.96644761,\n",
       "       4660224.96221852, 4674084.20904671, 4189010.57006029,\n",
       "       4466195.50662396, 3267370.65598608, 4269856.17655802,\n",
       "       4004220.61235117, 5367046.55045588, 4249991.25610429,\n",
       "       4419998.01719668, 7173368.38706247, 3958023.12292389,\n",
       "       5325468.80997133, 5325468.80997133, 4466195.50662396,\n",
       "       3392103.87743973, 4401519.02142577, 5976853.41089596,\n",
       "       5459441.52931044, 3674832.51273468, 4928170.40089674,\n",
       "       4715661.94953126, 5089861.61389221, 3593062.95644839,\n",
       "       3751520.34518396, 3656353.51696377, 4424617.7661394 ,\n",
       "       4235208.05948756, 3461400.11158065, 4512392.99605123,\n",
       "       4068897.09754936, 5066762.86917857, 5621132.74230591,\n",
       "       4271704.07613511, 4013460.11023663, 3378244.63061155,\n",
       "       4466195.50662396, 6198601.36014689, 3981121.86763753,\n",
       "       4623266.9706767 , 4272166.05102939, 4256458.90462411,\n",
       "       4527176.19266796, 5152228.22461904, 5186876.3416895 ,\n",
       "       4050418.10177845, 4087376.09332027, 4253687.05525848,\n",
       "       4974367.89032402, 5112960.35860585, 4693487.15460617,\n",
       "       4392279.52354031, 3773233.16521478, 4383040.02565485,\n",
       "       4064277.34860663, 3985741.61658026, 4881972.91146946,\n",
       "       4466195.50662396, 3985741.61658026, 4281405.54891484,\n",
       "       5380905.79728407, 4466195.50662396, 4216729.06371665,\n",
       "       4258306.8042012 , 5741246.21481684, 4928170.40089674,\n",
       "       3773233.16521478, 3907205.88455389, 4150204.67894137,\n",
       "       6120065.62812052, 3378244.63061155, 4133573.58274755,\n",
       "       3856388.64618388, 4835775.42204218, 3856388.64618388,\n",
       "       5691352.92623538, 4272166.05102939, 4165911.82534665,\n",
       "       3318187.89435609, 3392565.85233401, 3934924.37821025,\n",
       "       3842529.3993557 , 4614027.47279125, 3967262.62080935,\n",
       "       4050418.10177845, 5080622.11600676, 3706708.7804395 ,\n",
       "       6267897.59428781, 6198601.36014689, 3551485.21596384,\n",
       "       5588794.49970682, 3994981.11446572, 4050418.10177845,\n",
       "       4253687.05525848, 5168397.34591859, 4258306.8042012 ,\n",
       "       4043026.50347009, 3828670.15252751, 4905071.6561831 ,\n",
       "       4064277.34860663, 4064277.34860663, 4992846.88609493,\n",
       "       4050418.10177845, 4364561.02988394, 4036558.85495027,\n",
       "       3856388.64618388, 3773233.16521478, 4013460.11023663,\n",
       "       5140678.85226222, 4295264.79574303, 3703936.93107386,\n",
       "       3438301.36686701, 4013460.11023663, 4466195.50662396,\n",
       "       4235208.05948756, 3842529.3993557 , 4466195.50662396,\n",
       "       4466195.50662396, 4068897.09754936, 4165911.82534665,\n",
       "       4346082.03411303, 4073516.84649209, 4512392.99605123,\n",
       "       3373624.88166882, 3789864.2614086 , 4230588.31054484,\n",
       "       5817010.09747757, 3994981.11446572, 4050418.10177845,\n",
       "       4068897.09754936, 5112960.35860585, 3828670.15252751,\n",
       "       5782823.95530139, 4009764.31108245, 6776069.97798787,\n",
       "       5103720.8607204 , 8367111.51386334, 4650985.46433307,\n",
       "       3800951.65887115, 4845014.91992764, 3378244.63061155,\n",
       "       4235208.05948756, 3858698.52065525, 4165911.82534665,\n",
       "       3378244.63061155, 3593062.95644839, 3288159.52622836,\n",
       "       4253687.05525848, 4597858.3514917 , 3981121.86763753,\n",
       "       4068897.09754936, 4004220.61235117, 4678703.95798944,\n",
       "       4290645.0468003 , 4581689.23019215, 4105855.08909118,\n",
       "       4119714.33591937, 3819430.65464206, 3858698.52065525,\n",
       "       3634640.69693295, 3378244.63061155, 4253687.05525848,\n",
       "       4593238.60254897, 3542245.71807839, 3856388.64618388,\n",
       "       5186876.3416895 , 3994981.11446572, 4139117.28147883,\n",
       "       4253687.05525848, 3378244.63061155, 5103720.8607204 ,\n",
       "       4466195.50662396, 4202869.81688847, 4068897.09754936,\n",
       "       4406138.77036849, 3627249.09862458, 4383040.02565485,\n",
       "       3828670.15252751, 3981121.86763753, 4228740.41096774,\n",
       "       4004220.61235117, 4279095.67444348, 3149567.05794652,\n",
       "       3981121.86763753, 5505639.01873772, 6545082.53085148,\n",
       "       3805109.4329196 , 4466195.50662396, 4925860.52642537,\n",
       "       3495124.27886256, 3773233.16521478, 4165911.82534665,\n",
       "       4004220.61235117, 6129305.12600598, 4678703.95798944,\n",
       "       3385174.25402564, 3814810.90569933, 4466195.50662396,\n",
       "       4142813.08063301, 3814810.90569933, 3884107.13984025,\n",
       "       3697007.30765977, 4512392.99605123, 4732293.04572508,\n",
       "       4119714.33591937, 4064277.34860663, 6106206.38129234,\n",
       "       4397823.22227158, 3773233.16521478, 5089861.61389221,\n",
       "       4678703.95798944, 4050418.10177845, 4078136.59543482,\n",
       "       3994981.11446572, 3634640.69693295, 3842529.3993557 ,\n",
       "       5443272.40801089, 3791712.16098569, 4064277.34860663,\n",
       "       5159157.84803313, 4881972.91146946, 4789577.9326149 ,\n",
       "       3911825.63349662, 4396899.27248304, 3606922.20327658,\n",
       "       3611541.95221931, 4216729.06371665, 5528737.76345136,\n",
       "       4235208.05948756, 4235208.05948756, 4204717.71646556,\n",
       "       3311258.270942  , 4064277.34860663, 3680838.18636022,\n",
       "       3509907.47547929, 3994981.11446572, 4235208.05948756,\n",
       "       3858698.52065525, 4235208.05948756, 3731655.42473023,\n",
       "       4050418.10177845, 4419998.01719668, 4050418.10177845,\n",
       "       3717796.17790205, 3856388.64618388, 3773233.16521478,\n",
       "       4419998.01719668, 3773233.16521478, 3870247.89301206,\n",
       "       3884107.13984025, 3773233.16521478, 4004220.61235117,\n",
       "       4623266.9706767 , 5944515.16829686, 4066587.223078  ,\n",
       "       3530696.34572157, 3674832.51273468, 3895194.5373028 ,\n",
       "       4068897.09754936, 3856388.64618388, 3235494.38828126,\n",
       "       4221348.81265938, 4221348.81265938, 3288159.52622836,\n",
       "       4835775.42204218, 3773233.16521478, 3496048.22865111,\n",
       "       3773233.16521478, 3939544.12715298, 3967262.62080935,\n",
       "       3172665.80266016, 4073054.87159782, 3768613.41627205,\n",
       "       3773233.16521478, 3496048.22865111, 4059657.59966391,\n",
       "       3731655.42473023, 4165911.82534665])"
      ]
     },
     "execution_count": 33,
     "metadata": {},
     "output_type": "execute_result"
    }
   ],
   "source": [
    "y_pred"
   ]
  },
  {
   "cell_type": "code",
   "execution_count": 34,
   "id": "f58a21b5",
   "metadata": {},
   "outputs": [
    {
     "data": {
      "text/plain": [
       "(545,)"
      ]
     },
     "execution_count": 34,
     "metadata": {},
     "output_type": "execute_result"
    }
   ],
   "source": [
    "y.shape"
   ]
  },
  {
   "cell_type": "code",
   "execution_count": 35,
   "id": "5b859360",
   "metadata": {},
   "outputs": [
    {
     "data": {
      "text/plain": [
       "(545,)"
      ]
     },
     "execution_count": 35,
     "metadata": {},
     "output_type": "execute_result"
    }
   ],
   "source": [
    "y_pred.shape"
   ]
  },
  {
   "cell_type": "code",
   "execution_count": 37,
   "id": "3519deb5",
   "metadata": {},
   "outputs": [
    {
     "data": {
      "text/html": [
       "<div>\n",
       "<style scoped>\n",
       "    .dataframe tbody tr th:only-of-type {\n",
       "        vertical-align: middle;\n",
       "    }\n",
       "\n",
       "    .dataframe tbody tr th {\n",
       "        vertical-align: top;\n",
       "    }\n",
       "\n",
       "    .dataframe thead th {\n",
       "        text-align: right;\n",
       "    }\n",
       "</style>\n",
       "<table border=\"1\" class=\"dataframe\">\n",
       "  <thead>\n",
       "    <tr style=\"text-align: right;\">\n",
       "      <th></th>\n",
       "      <th>0</th>\n",
       "    </tr>\n",
       "  </thead>\n",
       "  <tbody>\n",
       "    <tr>\n",
       "      <th>13300000</th>\n",
       "      <td>5.815162e+06</td>\n",
       "    </tr>\n",
       "    <tr>\n",
       "      <th>12250000</th>\n",
       "      <td>6.526604e+06</td>\n",
       "    </tr>\n",
       "    <tr>\n",
       "      <th>12250000</th>\n",
       "      <td>6.988578e+06</td>\n",
       "    </tr>\n",
       "    <tr>\n",
       "      <th>12215000</th>\n",
       "      <td>5.852120e+06</td>\n",
       "    </tr>\n",
       "    <tr>\n",
       "      <th>11410000</th>\n",
       "      <td>5.815162e+06</td>\n",
       "    </tr>\n",
       "    <tr>\n",
       "      <th>...</th>\n",
       "      <td>...</td>\n",
       "    </tr>\n",
       "    <tr>\n",
       "      <th>1820000</th>\n",
       "      <td>3.773233e+06</td>\n",
       "    </tr>\n",
       "    <tr>\n",
       "      <th>1767150</th>\n",
       "      <td>3.496048e+06</td>\n",
       "    </tr>\n",
       "    <tr>\n",
       "      <th>1750000</th>\n",
       "      <td>4.059658e+06</td>\n",
       "    </tr>\n",
       "    <tr>\n",
       "      <th>1750000</th>\n",
       "      <td>3.731655e+06</td>\n",
       "    </tr>\n",
       "    <tr>\n",
       "      <th>1750000</th>\n",
       "      <td>4.165912e+06</td>\n",
       "    </tr>\n",
       "  </tbody>\n",
       "</table>\n",
       "<p>545 rows × 1 columns</p>\n",
       "</div>"
      ],
      "text/plain": [
       "                     0\n",
       "13300000  5.815162e+06\n",
       "12250000  6.526604e+06\n",
       "12250000  6.988578e+06\n",
       "12215000  5.852120e+06\n",
       "11410000  5.815162e+06\n",
       "...                ...\n",
       "1820000   3.773233e+06\n",
       "1767150   3.496048e+06\n",
       "1750000   4.059658e+06\n",
       "1750000   3.731655e+06\n",
       "1750000   4.165912e+06\n",
       "\n",
       "[545 rows x 1 columns]"
      ]
     },
     "execution_count": 37,
     "metadata": {},
     "output_type": "execute_result"
    }
   ],
   "source": [
    "pd.DataFrame( y_pred,y)\n"
   ]
  },
  {
   "cell_type": "code",
   "execution_count": 51,
   "id": "c49d4935",
   "metadata": {},
   "outputs": [
    {
     "data": {
      "text/html": [
       "<div>\n",
       "<style scoped>\n",
       "    .dataframe tbody tr th:only-of-type {\n",
       "        vertical-align: middle;\n",
       "    }\n",
       "\n",
       "    .dataframe tbody tr th {\n",
       "        vertical-align: top;\n",
       "    }\n",
       "\n",
       "    .dataframe thead th {\n",
       "        text-align: right;\n",
       "    }\n",
       "</style>\n",
       "<table border=\"1\" class=\"dataframe\">\n",
       "  <thead>\n",
       "    <tr style=\"text-align: right;\">\n",
       "      <th></th>\n",
       "      <th>area</th>\n",
       "      <th>price</th>\n",
       "    </tr>\n",
       "  </thead>\n",
       "  <tbody>\n",
       "    <tr>\n",
       "      <th>0</th>\n",
       "      <td>7420</td>\n",
       "      <td>13300000</td>\n",
       "    </tr>\n",
       "    <tr>\n",
       "      <th>1</th>\n",
       "      <td>8960</td>\n",
       "      <td>12250000</td>\n",
       "    </tr>\n",
       "    <tr>\n",
       "      <th>2</th>\n",
       "      <td>9960</td>\n",
       "      <td>12250000</td>\n",
       "    </tr>\n",
       "    <tr>\n",
       "      <th>3</th>\n",
       "      <td>7500</td>\n",
       "      <td>12215000</td>\n",
       "    </tr>\n",
       "    <tr>\n",
       "      <th>4</th>\n",
       "      <td>7420</td>\n",
       "      <td>11410000</td>\n",
       "    </tr>\n",
       "  </tbody>\n",
       "</table>\n",
       "</div>"
      ],
      "text/plain": [
       "   area     price\n",
       "0  7420  13300000\n",
       "1  8960  12250000\n",
       "2  9960  12250000\n",
       "3  7500  12215000\n",
       "4  7420  11410000"
      ]
     },
     "execution_count": 51,
     "metadata": {},
     "output_type": "execute_result"
    }
   ],
   "source": [
    "df[['area','price']].head()"
   ]
  },
  {
   "cell_type": "code",
   "execution_count": 54,
   "id": "b0342d1f",
   "metadata": {},
   "outputs": [
    {
     "name": "stderr",
     "output_type": "stream",
     "text": [
      "C:\\Users\\prave\\anaconda3\\envs\\tensorFlow\\lib\\site-packages\\sklearn\\base.py:464: UserWarning: X does not have valid feature names, but LinearRegression was fitted with feature names\n",
      "  warnings.warn(\n"
     ]
    },
    {
     "data": {
      "text/plain": [
       "array([5815162.19790048])"
      ]
     },
     "execution_count": 54,
     "metadata": {},
     "output_type": "execute_result"
    }
   ],
   "source": [
    "reg_model.predict([[7420]])"
   ]
  },
  {
   "cell_type": "code",
   "execution_count": 59,
   "id": "1e3d9077",
   "metadata": {},
   "outputs": [
    {
     "name": "stdout",
     "output_type": "stream",
     "text": [
      "[461.97489427]\n",
      "2387308.4823964303\n"
     ]
    }
   ],
   "source": [
    "print(reg_model.coef_)\n",
    "print(reg_model.intercept_)\n"
   ]
  },
  {
   "cell_type": "code",
   "execution_count": 77,
   "id": "a4233e67",
   "metadata": {},
   "outputs": [
    {
     "data": {
      "text/plain": [
       "5815162.19787983"
      ]
     },
     "execution_count": 77,
     "metadata": {},
     "output_type": "execute_result"
    }
   ],
   "source": [
    "7420 * 461.97489427 + 2387308.4823964303 # 'y' predicted value"
   ]
  },
  {
   "cell_type": "markdown",
   "id": "11431b16",
   "metadata": {},
   "source": [
    "y = m * x + c  - linear regression formula\n",
    "\n",
    "x = input value\n",
    "m = coefficent\n",
    "c= intercept \n"
   ]
  },
  {
   "cell_type": "code",
   "execution_count": null,
   "id": "af3f71de",
   "metadata": {},
   "outputs": [],
   "source": [
    "reg_model.score(x,y)  #model score"
   ]
  },
  {
   "cell_type": "code",
   "execution_count": 63,
   "id": "e023b4df",
   "metadata": {},
   "outputs": [],
   "source": [
    "from sklearn.metrics import r2_score,mean_squared_error"
   ]
  },
  {
   "cell_type": "code",
   "execution_count": 64,
   "id": "c7d01844",
   "metadata": {},
   "outputs": [
    {
     "data": {
      "text/plain": [
       "0.2872931546811468"
      ]
     },
     "execution_count": 64,
     "metadata": {},
     "output_type": "execute_result"
    }
   ],
   "source": [
    "r2_score(y,y_pred) #regression score"
   ]
  },
  {
   "cell_type": "markdown",
   "id": "557e1f2f",
   "metadata": {},
   "source": [
    "r2_score is only 0.28 i.e poor performance,\n",
    "\n",
    "For regression tasks, R² values:\n",
    "\n",
    "    > 0.8 are generally strong.\n",
    "\n",
    "    0.5 – 0.8 are moderate.\n",
    "\n",
    "    < 0.5 are weak.\n",
    "    \n",
    "Hence to improve performance of model with noicy data we need to use\n",
    "\n",
    "Random Forest, XGBoost, Ridge/Lasso for regularization "
   ]
  },
  {
   "cell_type": "code",
   "execution_count": 65,
   "id": "5d1c038b",
   "metadata": {},
   "outputs": [
    {
     "data": {
      "text/plain": [
       "2488861398180.657"
      ]
     },
     "execution_count": 65,
     "metadata": {},
     "output_type": "execute_result"
    }
   ],
   "source": [
    "mean_squared_error(y,y_pred)"
   ]
  },
  {
   "cell_type": "code",
   "execution_count": null,
   "id": "6831ed84",
   "metadata": {},
   "outputs": [],
   "source": [
    "from sklearn.metrics import accuracy_score\n",
    "\n",
    "accuracy_score(y,y_pred)"
   ]
  },
  {
   "cell_type": "code",
   "execution_count": 71,
   "id": "25702748",
   "metadata": {},
   "outputs": [
    {
     "data": {
      "text/plain": [
       "<matplotlib.legend.Legend at 0x1f79225fe80>"
      ]
     },
     "execution_count": 71,
     "metadata": {},
     "output_type": "execute_result"
    },
    {
     "data": {
      "image/png": "[encoded data removed]",
      "text/plain": [
       "<Figure size 640x480 with 1 Axes>"
      ]
     },
     "metadata": {},
     "output_type": "display_data"
    }
   ],
   "source": [
    "plt.title('Linear Regression')\n",
    "plt.scatter(x,y,label='actual data points')   #scatter -- we get points\n",
    "plt.plot(x,y_pred,c='r',label='predicted')    #plot   -- we get lines\n",
    "plt.xlabel('area')\n",
    "plt.ylabel('price')\n",
    "plt.legend()"
   ]
  },
  {
   "cell_type": "code",
   "execution_count": 73,
   "id": "4b7d9400",
   "metadata": {},
   "outputs": [
    {
     "data": {
      "text/html": [
       "<div>\n",
       "<style scoped>\n",
       "    .dataframe tbody tr th:only-of-type {\n",
       "        vertical-align: middle;\n",
       "    }\n",
       "\n",
       "    .dataframe tbody tr th {\n",
       "        vertical-align: top;\n",
       "    }\n",
       "\n",
       "    .dataframe thead th {\n",
       "        text-align: right;\n",
       "    }\n",
       "</style>\n",
       "<table border=\"1\" class=\"dataframe\">\n",
       "  <thead>\n",
       "    <tr style=\"text-align: right;\">\n",
       "      <th></th>\n",
       "      <th>area</th>\n",
       "      <th>price</th>\n",
       "    </tr>\n",
       "  </thead>\n",
       "  <tbody>\n",
       "    <tr>\n",
       "      <th>540</th>\n",
       "      <td>3000</td>\n",
       "      <td>1820000</td>\n",
       "    </tr>\n",
       "    <tr>\n",
       "      <th>541</th>\n",
       "      <td>2400</td>\n",
       "      <td>1767150</td>\n",
       "    </tr>\n",
       "    <tr>\n",
       "      <th>542</th>\n",
       "      <td>3620</td>\n",
       "      <td>1750000</td>\n",
       "    </tr>\n",
       "    <tr>\n",
       "      <th>543</th>\n",
       "      <td>2910</td>\n",
       "      <td>1750000</td>\n",
       "    </tr>\n",
       "    <tr>\n",
       "      <th>544</th>\n",
       "      <td>3850</td>\n",
       "      <td>1750000</td>\n",
       "    </tr>\n",
       "  </tbody>\n",
       "</table>\n",
       "</div>"
      ],
      "text/plain": [
       "     area    price\n",
       "540  3000  1820000\n",
       "541  2400  1767150\n",
       "542  3620  1750000\n",
       "543  2910  1750000\n",
       "544  3850  1750000"
      ]
     },
     "execution_count": 73,
     "metadata": {},
     "output_type": "execute_result"
    }
   ],
   "source": [
    "df[['area','price']].tail()"
   ]
  },
  {
   "cell_type": "code",
   "execution_count": 74,
   "id": "5e00d6d9",
   "metadata": {},
   "outputs": [
    {
     "name": "stderr",
     "output_type": "stream",
     "text": [
      "C:\\Users\\prave\\anaconda3\\envs\\tensorFlow\\lib\\site-packages\\sklearn\\base.py:464: UserWarning: X does not have valid feature names, but LinearRegression was fitted with feature names\n",
      "  warnings.warn(\n"
     ]
    },
    {
     "data": {
      "text/plain": [
       "array([4165911.82534665])"
      ]
     },
     "execution_count": 74,
     "metadata": {},
     "output_type": "execute_result"
    }
   ],
   "source": [
    "reg_model.predict([[3850]])"
   ]
  },
  {
   "cell_type": "code",
   "execution_count": 91,
   "id": "dff94279",
   "metadata": {},
   "outputs": [
    {
     "data": {
      "text/html": [
       "<div>\n",
       "<style scoped>\n",
       "    .dataframe tbody tr th:only-of-type {\n",
       "        vertical-align: middle;\n",
       "    }\n",
       "\n",
       "    .dataframe tbody tr th {\n",
       "        vertical-align: top;\n",
       "    }\n",
       "\n",
       "    .dataframe thead th {\n",
       "        text-align: right;\n",
       "    }\n",
       "</style>\n",
       "<table border=\"1\" class=\"dataframe\">\n",
       "  <thead>\n",
       "    <tr style=\"text-align: right;\">\n",
       "      <th></th>\n",
       "      <th>area</th>\n",
       "    </tr>\n",
       "  </thead>\n",
       "  <tbody>\n",
       "    <tr>\n",
       "      <th>0</th>\n",
       "      <td>3333</td>\n",
       "    </tr>\n",
       "    <tr>\n",
       "      <th>1</th>\n",
       "      <td>2500</td>\n",
       "    </tr>\n",
       "    <tr>\n",
       "      <th>2</th>\n",
       "      <td>2300</td>\n",
       "    </tr>\n",
       "    <tr>\n",
       "      <th>3</th>\n",
       "      <td>1500</td>\n",
       "    </tr>\n",
       "    <tr>\n",
       "      <th>4</th>\n",
       "      <td>1800</td>\n",
       "    </tr>\n",
       "  </tbody>\n",
       "</table>\n",
       "</div>"
      ],
      "text/plain": [
       "   area\n",
       "0  3333\n",
       "1  2500\n",
       "2  2300\n",
       "3  1500\n",
       "4  1800"
      ]
     },
     "execution_count": 91,
     "metadata": {},
     "output_type": "execute_result"
    }
   ],
   "source": [
    "d = pd.read_csv(\"C:\\\\Users\\\\prave\\\\OneDrive\\\\Desktop\\\\Git\\\\MachineLearning\\\\Datasets\\\\home_area.csv\")\n",
    "d"
   ]
  },
  {
   "cell_type": "markdown",
   "id": "74a15292",
   "metadata": {},
   "source": [
    "\n",
    "### export the model as a file to be used in realtime applications\n",
    "\n",
    "### model persistence (pickling , joblib)"
   ]
  },
  {
   "cell_type": "markdown",
   "id": "8b23f61a",
   "metadata": {},
   "source": [
    " 1. Serialization\n",
    " 2. Deserialization"
   ]
  },
  {
   "cell_type": "code",
   "execution_count": null,
   "id": "f55d3708",
   "metadata": {},
   "outputs": [],
   "source": [
    "# 1. Serialization step creates the file\n",
    "import pickle\n",
    "pickle.dump(reg_model,open('simple_linear.pkl','wb'))  #write binary, model saved in binary format"
   ]
  },
  {
   "cell_type": "code",
   "execution_count": 103,
   "id": "b09ab9fe",
   "metadata": {},
   "outputs": [],
   "source": [
    "\n",
    "# 2. Deserialization step\n",
    "# Reloading of the model back\n",
    "import pickle\n",
    "reload_model = pickle.load(open('simple_linear.pkl','rb'))"
   ]
  },
  {
   "cell_type": "code",
   "execution_count": 104,
   "id": "f7666551",
   "metadata": {},
   "outputs": [
    {
     "data": {
      "text/plain": [
       "array([3927070.80500762, 3542245.71807839, 3449850.73922383,\n",
       "       3080270.82380561, 3218863.29208744])"
      ]
     },
     "execution_count": 104,
     "metadata": {},
     "output_type": "execute_result"
    }
   ],
   "source": [
    "pred = reload_model.predict(d[['area']])\n",
    "pred"
   ]
  },
  {
   "cell_type": "code",
   "execution_count": 95,
   "id": "ee7b89c7",
   "metadata": {},
   "outputs": [],
   "source": [
    "d['predicted_price'] = pred"
   ]
  },
  {
   "cell_type": "code",
   "execution_count": 96,
   "id": "c5e21e26",
   "metadata": {},
   "outputs": [
    {
     "data": {
      "text/html": [
       "<div>\n",
       "<style scoped>\n",
       "    .dataframe tbody tr th:only-of-type {\n",
       "        vertical-align: middle;\n",
       "    }\n",
       "\n",
       "    .dataframe tbody tr th {\n",
       "        vertical-align: top;\n",
       "    }\n",
       "\n",
       "    .dataframe thead th {\n",
       "        text-align: right;\n",
       "    }\n",
       "</style>\n",
       "<table border=\"1\" class=\"dataframe\">\n",
       "  <thead>\n",
       "    <tr style=\"text-align: right;\">\n",
       "      <th></th>\n",
       "      <th>area</th>\n",
       "      <th>predicted_price</th>\n",
       "    </tr>\n",
       "  </thead>\n",
       "  <tbody>\n",
       "    <tr>\n",
       "      <th>0</th>\n",
       "      <td>3333</td>\n",
       "      <td>3.927071e+06</td>\n",
       "    </tr>\n",
       "    <tr>\n",
       "      <th>1</th>\n",
       "      <td>2500</td>\n",
       "      <td>3.542246e+06</td>\n",
       "    </tr>\n",
       "    <tr>\n",
       "      <th>2</th>\n",
       "      <td>2300</td>\n",
       "      <td>3.449851e+06</td>\n",
       "    </tr>\n",
       "    <tr>\n",
       "      <th>3</th>\n",
       "      <td>1500</td>\n",
       "      <td>3.080271e+06</td>\n",
       "    </tr>\n",
       "    <tr>\n",
       "      <th>4</th>\n",
       "      <td>1800</td>\n",
       "      <td>3.218863e+06</td>\n",
       "    </tr>\n",
       "  </tbody>\n",
       "</table>\n",
       "</div>"
      ],
      "text/plain": [
       "   area  predicted_price\n",
       "0  3333     3.927071e+06\n",
       "1  2500     3.542246e+06\n",
       "2  2300     3.449851e+06\n",
       "3  1500     3.080271e+06\n",
       "4  1800     3.218863e+06"
      ]
     },
     "execution_count": 96,
     "metadata": {},
     "output_type": "execute_result"
    }
   ],
   "source": [
    "d"
   ]
  },
  {
   "cell_type": "code",
   "execution_count": 101,
   "id": "7d9d8812",
   "metadata": {},
   "outputs": [],
   "source": [
    "d.to_csv(r\"C:\\Users\\prave\\OneDrive\\Desktop\\Git\\MachineLearning\\Datasets\\predicted-areas.csv\", index=False)\n"
   ]
  },
  {
   "cell_type": "code",
   "execution_count": null,
   "id": "cedb086a",
   "metadata": {},
   "outputs": [],
   "source": [
    "using joblib\n",
    "\n",
    "form sklearn.externals import joblib\n",
    "\n",
    "joblib.dump(reg_model,'simpler_linear_regression.pkl')"
   ]
  },
  {
   "cell_type": "code",
   "execution_count": null,
   "id": "c713862b",
   "metadata": {},
   "outputs": [],
   "source": [
    "loaded_model = joblib.load(simpler_linear_regression.pkl)"
   ]
  }
 ],
 "metadata": {
  "kernelspec": {
   "display_name": "Python 3 (ipykernel)",
   "language": "python",
   "name": "python3"
  },
  "language_info": {
   "codemirror_mode": {
    "name": "ipython",
    "version": 3
   },
   "file_extension": ".py",
   "mimetype": "text/x-python",
   "name": "python",
   "nbconvert_exporter": "python",
   "pygments_lexer": "ipython3",
   "version": "3.9.17"
  }
 },
 "nbformat": 4,
 "nbformat_minor": 5
}
