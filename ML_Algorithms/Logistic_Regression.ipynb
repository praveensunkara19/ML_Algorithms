{
  "nbformat": 4,
  "nbformat_minor": 0,
  "metadata": {
    "colab": {
      "provenance": []
    },
    "kernelspec": {
      "name": "python3",
      "display_name": "Python 3"
    },
    "language_info": {
      "name": "python"
    }
  },
  "cells": [
    {
      "cell_type": "code",
      "execution_count": null,
      "metadata": {
        "id": "kn-wbLpv3eRo"
      },
      "outputs": [],
      "source": [
        "# https://www.kaggle.com/datasets/rakeshrau/social-network-ads"
      ]
    },
    {
      "cell_type": "code",
      "source": [
        "import pandas as pd"
      ],
      "metadata": {
        "id": "Vzt1c1qr3gHL"
      },
      "execution_count": null,
      "outputs": []
    },
    {
      "cell_type": "code",
      "source": [
        "df = pd.read_csv(\"https://raw.githubusercontent.com/praveensunkara19/Data/main/Social_Network_Ads.csv\")\n",
        "df"
      ],
      "metadata": {
        "colab": {
          "base_uri": "https://localhost:8080/",
          "height": 423
        },
        "id": "jyO3NAuo3pQG",
        "outputId": "d84c2ffa-6d73-4a9d-b060-6e90d6272361"
      },
      "execution_count": null,
      "outputs": [
        {
          "output_type": "execute_result",
          "data": {
            "text/plain": [
              "      User ID  Gender  Age  EstimatedSalary  Purchased\n",
              "0    15624510    Male   19            19000          0\n",
              "1    15810944    Male   35            20000          0\n",
              "2    15668575  Female   26            43000          0\n",
              "3    15603246  Female   27            57000          0\n",
              "4    15804002    Male   19            76000          0\n",
              "..        ...     ...  ...              ...        ...\n",
              "395  15691863  Female   46            41000          1\n",
              "396  15706071    Male   51            23000          1\n",
              "397  15654296  Female   50            20000          1\n",
              "398  15755018    Male   36            33000          0\n",
              "399  15594041  Female   49            36000          1\n",
              "\n",
              "[400 rows x 5 columns]"
            ],
            "text/html": [
              "\n",
              "  <div id=\"df-9e4897a0-fdf6-4614-8e8d-3f7a52449cc4\" class=\"colab-df-container\">\n",
              "    <div>\n",
              "<style scoped>\n",
              "    .dataframe tbody tr th:only-of-type {\n",
              "        vertical-align: middle;\n",
              "    }\n",
              "\n",
              "    .dataframe tbody tr th {\n",
              "        vertical-align: top;\n",
              "    }\n",
              "\n",
              "    .dataframe thead th {\n",
              "        text-align: right;\n",
              "    }\n",
              "</style>\n",
              "<table border=\"1\" class=\"dataframe\">\n",
              "  <thead>\n",
              "    <tr style=\"text-align: right;\">\n",
              "      <th></th>\n",
              "      <th>User ID</th>\n",
              "      <th>Gender</th>\n",
              "      <th>Age</th>\n",
              "      <th>EstimatedSalary</th>\n",
              "      <th>Purchased</th>\n",
              "    </tr>\n",
              "  </thead>\n",
              "  <tbody>\n",
              "    <tr>\n",
              "      <th>0</th>\n",
              "      <td>15624510</td>\n",
              "      <td>Male</td>\n",
              "      <td>19</td>\n",
              "      <td>19000</td>\n",
              "      <td>0</td>\n",
              "    </tr>\n",
              "    <tr>\n",
              "      <th>1</th>\n",
              "      <td>15810944</td>\n",
              "      <td>Male</td>\n",
              "      <td>35</td>\n",
              "      <td>20000</td>\n",
              "      <td>0</td>\n",
              "    </tr>\n",
              "    <tr>\n",
              "      <th>2</th>\n",
              "      <td>15668575</td>\n",
              "      <td>Female</td>\n",
              "      <td>26</td>\n",
              "      <td>43000</td>\n",
              "      <td>0</td>\n",
              "    </tr>\n",
              "    <tr>\n",
              "      <th>3</th>\n",
              "      <td>15603246</td>\n",
              "      <td>Female</td>\n",
              "      <td>27</td>\n",
              "      <td>57000</td>\n",
              "      <td>0</td>\n",
              "    </tr>\n",
              "    <tr>\n",
              "      <th>4</th>\n",
              "      <td>15804002</td>\n",
              "      <td>Male</td>\n",
              "      <td>19</td>\n",
              "      <td>76000</td>\n",
              "      <td>0</td>\n",
              "    </tr>\n",
              "    <tr>\n",
              "      <th>...</th>\n",
              "      <td>...</td>\n",
              "      <td>...</td>\n",
              "      <td>...</td>\n",
              "      <td>...</td>\n",
              "      <td>...</td>\n",
              "    </tr>\n",
              "    <tr>\n",
              "      <th>395</th>\n",
              "      <td>15691863</td>\n",
              "      <td>Female</td>\n",
              "      <td>46</td>\n",
              "      <td>41000</td>\n",
              "      <td>1</td>\n",
              "    </tr>\n",
              "    <tr>\n",
              "      <th>396</th>\n",
              "      <td>15706071</td>\n",
              "      <td>Male</td>\n",
              "      <td>51</td>\n",
              "      <td>23000</td>\n",
              "      <td>1</td>\n",
              "    </tr>\n",
              "    <tr>\n",
              "      <th>397</th>\n",
              "      <td>15654296</td>\n",
              "      <td>Female</td>\n",
              "      <td>50</td>\n",
              "      <td>20000</td>\n",
              "      <td>1</td>\n",
              "    </tr>\n",
              "    <tr>\n",
              "      <th>398</th>\n",
              "      <td>15755018</td>\n",
              "      <td>Male</td>\n",
              "      <td>36</td>\n",
              "      <td>33000</td>\n",
              "      <td>0</td>\n",
              "    </tr>\n",
              "    <tr>\n",
              "      <th>399</th>\n",
              "      <td>15594041</td>\n",
              "      <td>Female</td>\n",
              "      <td>49</td>\n",
              "      <td>36000</td>\n",
              "      <td>1</td>\n",
              "    </tr>\n",
              "  </tbody>\n",
              "</table>\n",
              "<p>400 rows × 5 columns</p>\n",
              "</div>\n",
              "    <div class=\"colab-df-buttons\">\n",
              "\n",
              "  <div class=\"colab-df-container\">\n",
              "    <button class=\"colab-df-convert\" onclick=\"convertToInteractive('df-9e4897a0-fdf6-4614-8e8d-3f7a52449cc4')\"\n",
              "            title=\"Convert this dataframe to an interactive table.\"\n",
              "            style=\"display:none;\">\n",
              "\n",
              "  <svg xmlns=\"http://www.w3.org/2000/svg\" height=\"24px\" viewBox=\"0 -960 960 960\">\n",
              "    <path d=\"M120-120v-720h720v720H120Zm60-500h600v-160H180v160Zm220 220h160v-160H400v160Zm0 220h160v-160H400v160ZM180-400h160v-160H180v160Zm440 0h160v-160H620v160ZM180-180h160v-160H180v160Zm440 0h160v-160H620v160Z\"/>\n",
              "  </svg>\n",
              "    </button>\n",
              "\n",
              "  <style>\n",
              "    .colab-df-container {\n",
              "      display:flex;\n",
              "      gap: 12px;\n",
              "    }\n",
              "\n",
              "    .colab-df-convert {\n",
              "      background-color: #E8F0FE;\n",
              "      border: none;\n",
              "      border-radius: 50%;\n",
              "      cursor: pointer;\n",
              "      display: none;\n",
              "      fill: #1967D2;\n",
              "      height: 32px;\n",
              "      padding: 0 0 0 0;\n",
              "      width: 32px;\n",
              "    }\n",
              "\n",
              "    .colab-df-convert:hover {\n",
              "      background-color: #E2EBFA;\n",
              "      box-shadow: 0px 1px 2px rgba(60, 64, 67, 0.3), 0px 1px 3px 1px rgba(60, 64, 67, 0.15);\n",
              "      fill: #174EA6;\n",
              "    }\n",
              "\n",
              "    .colab-df-buttons div {\n",
              "      margin-bottom: 4px;\n",
              "    }\n",
              "\n",
              "    [theme=dark] .colab-df-convert {\n",
              "      background-color: #3B4455;\n",
              "      fill: #D2E3FC;\n",
              "    }\n",
              "\n",
              "    [theme=dark] .colab-df-convert:hover {\n",
              "      background-color: #434B5C;\n",
              "      box-shadow: 0px 1px 3px 1px rgba(0, 0, 0, 0.15);\n",
              "      filter: drop-shadow(0px 1px 2px rgba(0, 0, 0, 0.3));\n",
              "      fill: #FFFFFF;\n",
              "    }\n",
              "  </style>\n",
              "\n",
              "    <script>\n",
              "      const buttonEl =\n",
              "        document.querySelector('#df-9e4897a0-fdf6-4614-8e8d-3f7a52449cc4 button.colab-df-convert');\n",
              "      buttonEl.style.display =\n",
              "        google.colab.kernel.accessAllowed ? 'block' : 'none';\n",
              "\n",
              "      async function convertToInteractive(key) {\n",
              "        const element = document.querySelector('#df-9e4897a0-fdf6-4614-8e8d-3f7a52449cc4');\n",
              "        const dataTable =\n",
              "          await google.colab.kernel.invokeFunction('convertToInteractive',\n",
              "                                                    [key], {});\n",
              "        if (!dataTable) return;\n",
              "\n",
              "        const docLinkHtml = 'Like what you see? Visit the ' +\n",
              "          '<a target=\"_blank\" href=https://colab.research.google.com/notebooks/data_table.ipynb>data table notebook</a>'\n",
              "          + ' to learn more about interactive tables.';\n",
              "        element.innerHTML = '';\n",
              "        dataTable['output_type'] = 'display_data';\n",
              "        await google.colab.output.renderOutput(dataTable, element);\n",
              "        const docLink = document.createElement('div');\n",
              "        docLink.innerHTML = docLinkHtml;\n",
              "        element.appendChild(docLink);\n",
              "      }\n",
              "    </script>\n",
              "  </div>\n",
              "\n",
              "\n",
              "<div id=\"df-7375d70c-e44a-450c-b757-54198679df67\">\n",
              "  <button class=\"colab-df-quickchart\" onclick=\"quickchart('df-7375d70c-e44a-450c-b757-54198679df67')\"\n",
              "            title=\"Suggest charts.\"\n",
              "            style=\"display:none;\">\n",
              "\n",
              "<svg xmlns=\"http://www.w3.org/2000/svg\" height=\"24px\"viewBox=\"0 0 24 24\"\n",
              "     width=\"24px\">\n",
              "    <g>\n",
              "        <path d=\"M19 3H5c-1.1 0-2 .9-2 2v14c0 1.1.9 2 2 2h14c1.1 0 2-.9 2-2V5c0-1.1-.9-2-2-2zM9 17H7v-7h2v7zm4 0h-2V7h2v10zm4 0h-2v-4h2v4z\"/>\n",
              "    </g>\n",
              "</svg>\n",
              "  </button>\n",
              "\n",
              "<style>\n",
              "  .colab-df-quickchart {\n",
              "      --bg-color: #E8F0FE;\n",
              "      --fill-color: #1967D2;\n",
              "      --hover-bg-color: #E2EBFA;\n",
              "      --hover-fill-color: #174EA6;\n",
              "      --disabled-fill-color: #AAA;\n",
              "      --disabled-bg-color: #DDD;\n",
              "  }\n",
              "\n",
              "  [theme=dark] .colab-df-quickchart {\n",
              "      --bg-color: #3B4455;\n",
              "      --fill-color: #D2E3FC;\n",
              "      --hover-bg-color: #434B5C;\n",
              "      --hover-fill-color: #FFFFFF;\n",
              "      --disabled-bg-color: #3B4455;\n",
              "      --disabled-fill-color: #666;\n",
              "  }\n",
              "\n",
              "  .colab-df-quickchart {\n",
              "    background-color: var(--bg-color);\n",
              "    border: none;\n",
              "    border-radius: 50%;\n",
              "    cursor: pointer;\n",
              "    display: none;\n",
              "    fill: var(--fill-color);\n",
              "    height: 32px;\n",
              "    padding: 0;\n",
              "    width: 32px;\n",
              "  }\n",
              "\n",
              "  .colab-df-quickchart:hover {\n",
              "    background-color: var(--hover-bg-color);\n",
              "    box-shadow: 0 1px 2px rgba(60, 64, 67, 0.3), 0 1px 3px 1px rgba(60, 64, 67, 0.15);\n",
              "    fill: var(--button-hover-fill-color);\n",
              "  }\n",
              "\n",
              "  .colab-df-quickchart-complete:disabled,\n",
              "  .colab-df-quickchart-complete:disabled:hover {\n",
              "    background-color: var(--disabled-bg-color);\n",
              "    fill: var(--disabled-fill-color);\n",
              "    box-shadow: none;\n",
              "  }\n",
              "\n",
              "  .colab-df-spinner {\n",
              "    border: 2px solid var(--fill-color);\n",
              "    border-color: transparent;\n",
              "    border-bottom-color: var(--fill-color);\n",
              "    animation:\n",
              "      spin 1s steps(1) infinite;\n",
              "  }\n",
              "\n",
              "  @keyframes spin {\n",
              "    0% {\n",
              "      border-color: transparent;\n",
              "      border-bottom-color: var(--fill-color);\n",
              "      border-left-color: var(--fill-color);\n",
              "    }\n",
              "    20% {\n",
              "      border-color: transparent;\n",
              "      border-left-color: var(--fill-color);\n",
              "      border-top-color: var(--fill-color);\n",
              "    }\n",
              "    30% {\n",
              "      border-color: transparent;\n",
              "      border-left-color: var(--fill-color);\n",
              "      border-top-color: var(--fill-color);\n",
              "      border-right-color: var(--fill-color);\n",
              "    }\n",
              "    40% {\n",
              "      border-color: transparent;\n",
              "      border-right-color: var(--fill-color);\n",
              "      border-top-color: var(--fill-color);\n",
              "    }\n",
              "    60% {\n",
              "      border-color: transparent;\n",
              "      border-right-color: var(--fill-color);\n",
              "    }\n",
              "    80% {\n",
              "      border-color: transparent;\n",
              "      border-right-color: var(--fill-color);\n",
              "      border-bottom-color: var(--fill-color);\n",
              "    }\n",
              "    90% {\n",
              "      border-color: transparent;\n",
              "      border-bottom-color: var(--fill-color);\n",
              "    }\n",
              "  }\n",
              "</style>\n",
              "\n",
              "  <script>\n",
              "    async function quickchart(key) {\n",
              "      const quickchartButtonEl =\n",
              "        document.querySelector('#' + key + ' button');\n",
              "      quickchartButtonEl.disabled = true;  // To prevent multiple clicks.\n",
              "      quickchartButtonEl.classList.add('colab-df-spinner');\n",
              "      try {\n",
              "        const charts = await google.colab.kernel.invokeFunction(\n",
              "            'suggestCharts', [key], {});\n",
              "      } catch (error) {\n",
              "        console.error('Error during call to suggestCharts:', error);\n",
              "      }\n",
              "      quickchartButtonEl.classList.remove('colab-df-spinner');\n",
              "      quickchartButtonEl.classList.add('colab-df-quickchart-complete');\n",
              "    }\n",
              "    (() => {\n",
              "      let quickchartButtonEl =\n",
              "        document.querySelector('#df-7375d70c-e44a-450c-b757-54198679df67 button');\n",
              "      quickchartButtonEl.style.display =\n",
              "        google.colab.kernel.accessAllowed ? 'block' : 'none';\n",
              "    })();\n",
              "  </script>\n",
              "</div>\n",
              "    </div>\n",
              "  </div>\n"
            ]
          },
          "metadata": {},
          "execution_count": 38
        }
      ]
    },
    {
      "cell_type": "code",
      "source": [
        "df.info()"
      ],
      "metadata": {
        "colab": {
          "base_uri": "https://localhost:8080/"
        },
        "id": "D47ZGaFL32vW",
        "outputId": "ab379d2b-8e42-405f-ed30-8b883475df2f"
      },
      "execution_count": null,
      "outputs": [
        {
          "output_type": "stream",
          "name": "stdout",
          "text": [
            "<class 'pandas.core.frame.DataFrame'>\n",
            "RangeIndex: 400 entries, 0 to 399\n",
            "Data columns (total 5 columns):\n",
            " #   Column           Non-Null Count  Dtype \n",
            "---  ------           --------------  ----- \n",
            " 0   User ID          400 non-null    int64 \n",
            " 1   Gender           400 non-null    object\n",
            " 2   Age              400 non-null    int64 \n",
            " 3   EstimatedSalary  400 non-null    int64 \n",
            " 4   Purchased        400 non-null    int64 \n",
            "dtypes: int64(4), object(1)\n",
            "memory usage: 15.8+ KB\n"
          ]
        }
      ]
    },
    {
      "cell_type": "code",
      "source": [
        "x = df.iloc[:,[2,3]].values\n",
        "y = df.iloc[:,-1].values"
      ],
      "metadata": {
        "id": "Y_KyJssG4Q2p"
      },
      "execution_count": null,
      "outputs": []
    },
    {
      "cell_type": "code",
      "source": [
        "df['Purchased'].value_counts()"
      ],
      "metadata": {
        "colab": {
          "base_uri": "https://localhost:8080/"
        },
        "id": "x73Fwm3u4aTv",
        "outputId": "4f5b30b3-fd1a-4ee6-c1bd-02ce7eb85ee4"
      },
      "execution_count": null,
      "outputs": [
        {
          "output_type": "execute_result",
          "data": {
            "text/plain": [
              "0    257\n",
              "1    143\n",
              "Name: Purchased, dtype: int64"
            ]
          },
          "metadata": {},
          "execution_count": 41
        }
      ]
    },
    {
      "cell_type": "code",
      "source": [
        "print(min(df['Age']))    #smallest value in the age column\n",
        "print(max(df['Age']))    #largest value in the age column"
      ],
      "metadata": {
        "colab": {
          "base_uri": "https://localhost:8080/"
        },
        "id": "uFJIgegC6gSl",
        "outputId": "cbb1de7c-41bb-43dd-cce3-6c920b979b00"
      },
      "execution_count": null,
      "outputs": [
        {
          "output_type": "stream",
          "name": "stdout",
          "text": [
            "18\n",
            "60\n"
          ]
        }
      ]
    },
    {
      "cell_type": "code",
      "source": [
        "print(min(df['EstimatedSalary']))    #minimum value in the salary column\n",
        "print(max(df['EstimatedSalary']))    #maximum value in the salary column"
      ],
      "metadata": {
        "colab": {
          "base_uri": "https://localhost:8080/"
        },
        "id": "bA57LAVz6sA9",
        "outputId": "e59ba343-2dca-4cb8-ef33-df41e03310b7"
      },
      "execution_count": null,
      "outputs": [
        {
          "output_type": "stream",
          "name": "stdout",
          "text": [
            "15000\n",
            "150000\n"
          ]
        }
      ]
    },
    {
      "cell_type": "code",
      "source": [
        "#split the dataset\n",
        "from sklearn.model_selection import train_test_split\n",
        "x_train,x_test,y_train,y_test = train_test_split(x,y,random_state=0)"
      ],
      "metadata": {
        "id": "gSz54XWe4jAc"
      },
      "execution_count": null,
      "outputs": []
    },
    {
      "cell_type": "code",
      "source": [
        "x_train.shape"
      ],
      "metadata": {
        "colab": {
          "base_uri": "https://localhost:8080/"
        },
        "id": "KcJt-_2U41Ks",
        "outputId": "2c0485a1-65d9-4818-a00f-950ed0bf6c67"
      },
      "execution_count": null,
      "outputs": [
        {
          "output_type": "execute_result",
          "data": {
            "text/plain": [
              "(300, 2)"
            ]
          },
          "metadata": {},
          "execution_count": 45
        }
      ]
    },
    {
      "cell_type": "code",
      "source": [
        "0.75*400"
      ],
      "metadata": {
        "colab": {
          "base_uri": "https://localhost:8080/"
        },
        "id": "NZQVEm4-47jj",
        "outputId": "026faa55-ef54-4f5f-b7c2-258bc1885b1f"
      },
      "execution_count": null,
      "outputs": [
        {
          "output_type": "execute_result",
          "data": {
            "text/plain": [
              "300.0"
            ]
          },
          "metadata": {},
          "execution_count": 46
        }
      ]
    },
    {
      "cell_type": "code",
      "source": [
        "0.25*400"
      ],
      "metadata": {
        "colab": {
          "base_uri": "https://localhost:8080/"
        },
        "id": "XisS8tJs48dR",
        "outputId": "4c7eb7f9-c636-40cb-e785-6d3d718909da"
      },
      "execution_count": null,
      "outputs": [
        {
          "output_type": "execute_result",
          "data": {
            "text/plain": [
              "100.0"
            ]
          },
          "metadata": {},
          "execution_count": 47
        }
      ]
    },
    {
      "cell_type": "code",
      "source": [
        "import numpy as np"
      ],
      "metadata": {
        "id": "h2MmCnwX49jY"
      },
      "execution_count": null,
      "outputs": []
    },
    {
      "cell_type": "code",
      "source": [
        "print(np.unique(y_train,return_counts=True))\n",
        "print(np.unique(y_test,return_counts=True))"
      ],
      "metadata": {
        "colab": {
          "base_uri": "https://localhost:8080/"
        },
        "id": "LbEbIPJW5CA8",
        "outputId": "15d653a9-696d-4e93-ebfc-634fb69ef017"
      },
      "execution_count": null,
      "outputs": [
        {
          "output_type": "stream",
          "name": "stdout",
          "text": [
            "(array([0, 1]), array([189, 111]))\n",
            "(array([0, 1]), array([68, 32]))\n"
          ]
        }
      ]
    },
    {
      "cell_type": "code",
      "source": [
        "# example plot\n",
        "import numpy as np\n",
        "import matplotlib.pyplot as plt\n",
        "np.random.seed(0)\n",
        "x1 = np.random.randint(18,60,30)\n",
        "x1 = np.sort(x1)\n",
        "x2 = np.random.randint(15000,150000,30)\n",
        "plt.plot(x1,x2)\n",
        "plt.show()"
      ],
      "metadata": {
        "colab": {
          "base_uri": "https://localhost:8080/",
          "height": 430
        },
        "id": "_SMqC6zU6TrY",
        "outputId": "7992cd86-c093-4a27-b67e-7a77581fba2b"
      },
      "execution_count": null,
      "outputs": [
        {
          "output_type": "display_data",
          "data": {
            "text/plain": [
              "<Figure size 640x480 with 1 Axes>"
            ],
            "image/png": "[encoded data removed]"
          },
          "metadata": {}
        }
      ]
    },
    {
      "cell_type": "code",
      "source": [
        "x1min = min(x1)\n",
        "x1max = max(x1)\n",
        "\n",
        "x2min = min(x2)\n",
        "x2max = max(x2)\n",
        "\n",
        "#applying normalization formula\n",
        "x1norm = (x1 - x1min) / (x1max - x1min)\n",
        "x2norm = (x2 - x2min) / (x2max - x2min)\n",
        "\n",
        "plt.plot(x1norm,x2norm)\n",
        "# normalization increases the speed the machine,uses less memory,more efficiency"
      ],
      "metadata": {
        "colab": {
          "base_uri": "https://localhost:8080/",
          "height": 447
        },
        "id": "uOfj0_e66T8p",
        "outputId": "d81e900d-2b31-403c-e545-09aecb0eae98"
      },
      "execution_count": null,
      "outputs": [
        {
          "output_type": "execute_result",
          "data": {
            "text/plain": [
              "[<matplotlib.lines.Line2D at 0x79100eae7fd0>]"
            ]
          },
          "metadata": {},
          "execution_count": 51
        },
        {
          "output_type": "display_data",
          "data": {
            "text/plain": [
              "<Figure size 640x480 with 1 Axes>"
            ],
            "image/png": "[encoded data removed]"
          },
          "metadata": {}
        }
      ]
    },
    {
      "cell_type": "code",
      "source": [
        "x_train"
      ],
      "metadata": {
        "colab": {
          "base_uri": "https://localhost:8080/"
        },
        "id": "m_Xr9yDd6UH6",
        "outputId": "c90cb6c2-10f5-48cf-c28f-9f28b6baf111"
      },
      "execution_count": null,
      "outputs": [
        {
          "output_type": "execute_result",
          "data": {
            "text/plain": [
              "array([[    44,  39000],\n",
              "       [    32, 120000],\n",
              "       [    38,  50000],\n",
              "       [    32, 135000],\n",
              "       [    52,  21000],\n",
              "       [    53, 104000],\n",
              "       [    39,  42000],\n",
              "       [    38,  61000],\n",
              "       [    36,  50000],\n",
              "       [    36,  63000],\n",
              "       [    35,  25000],\n",
              "       [    35,  50000],\n",
              "       [    42,  73000],\n",
              "       [    47,  49000],\n",
              "       [    59,  29000],\n",
              "       [    49,  65000],\n",
              "       [    45, 131000],\n",
              "       [    31,  89000],\n",
              "       [    46,  82000],\n",
              "       [    47,  51000],\n",
              "       [    26,  15000],\n",
              "       [    60, 102000],\n",
              "       [    38, 112000],\n",
              "       [    40, 107000],\n",
              "       [    42,  53000],\n",
              "       [    35,  59000],\n",
              "       [    48,  41000],\n",
              "       [    48, 134000],\n",
              "       [    38, 113000],\n",
              "       [    29, 148000],\n",
              "       [    26,  15000],\n",
              "       [    60,  42000],\n",
              "       [    24,  19000],\n",
              "       [    42, 149000],\n",
              "       [    46,  96000],\n",
              "       [    28,  59000],\n",
              "       [    39,  96000],\n",
              "       [    28,  89000],\n",
              "       [    41,  72000],\n",
              "       [    45,  26000],\n",
              "       [    33,  69000],\n",
              "       [    20,  82000],\n",
              "       [    31,  74000],\n",
              "       [    42,  80000],\n",
              "       [    35,  72000],\n",
              "       [    33, 149000],\n",
              "       [    40,  71000],\n",
              "       [    51, 146000],\n",
              "       [    46,  79000],\n",
              "       [    35,  75000],\n",
              "       [    38,  51000],\n",
              "       [    36,  75000],\n",
              "       [    37,  78000],\n",
              "       [    38,  61000],\n",
              "       [    60, 108000],\n",
              "       [    20,  82000],\n",
              "       [    57,  74000],\n",
              "       [    42,  65000],\n",
              "       [    26,  80000],\n",
              "       [    46, 117000],\n",
              "       [    35,  61000],\n",
              "       [    21,  68000],\n",
              "       [    28,  44000],\n",
              "       [    41,  87000],\n",
              "       [    37,  33000],\n",
              "       [    27,  90000],\n",
              "       [    39,  42000],\n",
              "       [    28, 123000],\n",
              "       [    31, 118000],\n",
              "       [    25,  87000],\n",
              "       [    35,  71000],\n",
              "       [    37,  70000],\n",
              "       [    35,  39000],\n",
              "       [    47,  23000],\n",
              "       [    35, 147000],\n",
              "       [    48, 138000],\n",
              "       [    26,  86000],\n",
              "       [    25,  79000],\n",
              "       [    52, 138000],\n",
              "       [    51,  23000],\n",
              "       [    35,  60000],\n",
              "       [    33, 113000],\n",
              "       [    30, 107000],\n",
              "       [    48,  33000],\n",
              "       [    41,  80000],\n",
              "       [    48,  96000],\n",
              "       [    31,  18000],\n",
              "       [    31,  71000],\n",
              "       [    43, 129000],\n",
              "       [    59,  76000],\n",
              "       [    18,  44000],\n",
              "       [    36, 118000],\n",
              "       [    42,  90000],\n",
              "       [    47,  30000],\n",
              "       [    26,  43000],\n",
              "       [    40,  78000],\n",
              "       [    46,  59000],\n",
              "       [    59,  42000],\n",
              "       [    46,  74000],\n",
              "       [    35,  91000],\n",
              "       [    28,  59000],\n",
              "       [    40,  57000],\n",
              "       [    59, 143000],\n",
              "       [    57,  26000],\n",
              "       [    52,  38000],\n",
              "       [    47, 113000],\n",
              "       [    53, 143000],\n",
              "       [    35,  27000],\n",
              "       [    58, 101000],\n",
              "       [    45,  45000],\n",
              "       [    23,  82000],\n",
              "       [    46,  23000],\n",
              "       [    42,  65000],\n",
              "       [    28,  84000],\n",
              "       [    38,  59000],\n",
              "       [    26,  84000],\n",
              "       [    29,  28000],\n",
              "       [    37,  71000],\n",
              "       [    22,  55000],\n",
              "       [    48,  35000],\n",
              "       [    49,  28000],\n",
              "       [    38,  65000],\n",
              "       [    27,  17000],\n",
              "       [    46,  28000],\n",
              "       [    48, 141000],\n",
              "       [    26,  17000],\n",
              "       [    35,  97000],\n",
              "       [    39,  59000],\n",
              "       [    24,  27000],\n",
              "       [    32,  18000],\n",
              "       [    46,  88000],\n",
              "       [    35,  58000],\n",
              "       [    56,  60000],\n",
              "       [    47,  34000],\n",
              "       [    40,  72000],\n",
              "       [    32, 100000],\n",
              "       [    19,  21000],\n",
              "       [    25,  90000],\n",
              "       [    35,  88000],\n",
              "       [    28,  32000],\n",
              "       [    50,  20000],\n",
              "       [    40,  59000],\n",
              "       [    50,  44000],\n",
              "       [    35,  72000],\n",
              "       [    40, 142000],\n",
              "       [    46,  32000],\n",
              "       [    39,  71000],\n",
              "       [    20,  74000],\n",
              "       [    29,  75000],\n",
              "       [    31,  76000],\n",
              "       [    47,  25000],\n",
              "       [    40,  61000],\n",
              "       [    34, 112000],\n",
              "       [    38,  80000],\n",
              "       [    42,  75000],\n",
              "       [    47,  47000],\n",
              "       [    39,  75000],\n",
              "       [    19,  25000],\n",
              "       [    37,  80000],\n",
              "       [    36,  60000],\n",
              "       [    41,  52000],\n",
              "       [    36, 125000],\n",
              "       [    48,  29000],\n",
              "       [    36, 126000],\n",
              "       [    51, 134000],\n",
              "       [    27,  57000],\n",
              "       [    38,  71000],\n",
              "       [    39,  61000],\n",
              "       [    22,  27000],\n",
              "       [    33,  60000],\n",
              "       [    48,  74000],\n",
              "       [    58,  23000],\n",
              "       [    53,  72000],\n",
              "       [    32, 117000],\n",
              "       [    54,  70000],\n",
              "       [    30,  80000],\n",
              "       [    58,  95000],\n",
              "       [    26,  52000],\n",
              "       [    45,  79000],\n",
              "       [    24,  55000],\n",
              "       [    40,  75000],\n",
              "       [    33,  28000],\n",
              "       [    44, 139000],\n",
              "       [    22,  18000],\n",
              "       [    33,  51000],\n",
              "       [    43, 133000],\n",
              "       [    24,  32000],\n",
              "       [    46,  22000],\n",
              "       [    35,  55000],\n",
              "       [    54, 104000],\n",
              "       [    48, 119000],\n",
              "       [    35,  53000],\n",
              "       [    37, 144000],\n",
              "       [    23,  66000],\n",
              "       [    37, 137000],\n",
              "       [    31,  58000],\n",
              "       [    33,  41000],\n",
              "       [    45,  22000],\n",
              "       [    30,  15000],\n",
              "       [    19,  19000],\n",
              "       [    49,  74000],\n",
              "       [    39, 122000],\n",
              "       [    35,  73000],\n",
              "       [    39,  71000],\n",
              "       [    24,  23000],\n",
              "       [    41,  72000],\n",
              "       [    29,  83000],\n",
              "       [    54,  26000],\n",
              "       [    35,  44000],\n",
              "       [    37,  75000],\n",
              "       [    29,  47000],\n",
              "       [    31,  68000],\n",
              "       [    42,  54000],\n",
              "       [    30, 135000],\n",
              "       [    52, 114000],\n",
              "       [    50,  36000],\n",
              "       [    56, 133000],\n",
              "       [    29,  61000],\n",
              "       [    30,  89000],\n",
              "       [    26,  16000],\n",
              "       [    33,  31000],\n",
              "       [    41,  72000],\n",
              "       [    36,  33000],\n",
              "       [    55, 125000],\n",
              "       [    48, 131000],\n",
              "       [    41,  71000],\n",
              "       [    30,  62000],\n",
              "       [    37,  72000],\n",
              "       [    41,  63000],\n",
              "       [    58,  47000],\n",
              "       [    30, 116000],\n",
              "       [    20,  49000],\n",
              "       [    37,  74000],\n",
              "       [    41,  59000],\n",
              "       [    49,  89000],\n",
              "       [    28,  79000],\n",
              "       [    53,  82000],\n",
              "       [    40,  57000],\n",
              "       [    60,  34000],\n",
              "       [    35, 108000],\n",
              "       [    21,  72000],\n",
              "       [    38,  71000],\n",
              "       [    39, 106000],\n",
              "       [    37,  57000],\n",
              "       [    26,  72000],\n",
              "       [    35,  23000],\n",
              "       [    54, 108000],\n",
              "       [    30,  17000],\n",
              "       [    39, 134000],\n",
              "       [    29,  43000],\n",
              "       [    33,  43000],\n",
              "       [    35,  38000],\n",
              "       [    41,  45000],\n",
              "       [    41,  72000],\n",
              "       [    39, 134000],\n",
              "       [    27, 137000],\n",
              "       [    21,  16000],\n",
              "       [    26,  32000],\n",
              "       [    31,  66000],\n",
              "       [    39,  73000],\n",
              "       [    41,  79000],\n",
              "       [    47,  50000],\n",
              "       [    41,  30000],\n",
              "       [    37,  93000],\n",
              "       [    60,  46000],\n",
              "       [    25,  22000],\n",
              "       [    28,  37000],\n",
              "       [    38,  55000],\n",
              "       [    36,  54000],\n",
              "       [    20,  36000],\n",
              "       [    56, 104000],\n",
              "       [    40,  57000],\n",
              "       [    42, 108000],\n",
              "       [    20,  23000],\n",
              "       [    40,  65000],\n",
              "       [    47,  20000],\n",
              "       [    18,  86000],\n",
              "       [    35,  79000],\n",
              "       [    57,  33000],\n",
              "       [    34,  72000],\n",
              "       [    49,  39000],\n",
              "       [    27,  31000],\n",
              "       [    19,  70000],\n",
              "       [    39,  79000],\n",
              "       [    26,  81000],\n",
              "       [    25,  80000],\n",
              "       [    28,  85000],\n",
              "       [    55,  39000],\n",
              "       [    50,  88000],\n",
              "       [    49,  88000],\n",
              "       [    52, 150000],\n",
              "       [    35,  65000],\n",
              "       [    42,  54000],\n",
              "       [    34,  43000],\n",
              "       [    37,  52000],\n",
              "       [    48,  30000],\n",
              "       [    29,  43000],\n",
              "       [    36,  52000],\n",
              "       [    27,  54000],\n",
              "       [    26, 118000]])"
            ]
          },
          "metadata": {},
          "execution_count": 52
        }
      ]
    },
    {
      "cell_type": "code",
      "source": [
        "#normalization is done only to input data\n",
        "#sklearn implementation of MinMaxScaler\n",
        "\n",
        "from sklearn.preprocessing import MinMaxScaler\n",
        "scale = MinMaxScaler()\n",
        "x_train = scale.fit_transform(x_train)\n",
        "x_test = scale.transform(x_test)"
      ],
      "metadata": {
        "id": "sHx3lUsc6T_t"
      },
      "execution_count": null,
      "outputs": []
    },
    {
      "cell_type": "code",
      "source": [
        "x_train"
      ],
      "metadata": {
        "colab": {
          "base_uri": "https://localhost:8080/"
        },
        "id": "YgiBxHbB6UKL",
        "outputId": "e40017fe-e7c9-434f-df31-35b0a7db5893"
      },
      "execution_count": null,
      "outputs": [
        {
          "output_type": "execute_result",
          "data": {
            "text/plain": [
              "array([[0.61904762, 0.17777778],\n",
              "       [0.33333333, 0.77777778],\n",
              "       [0.47619048, 0.25925926],\n",
              "       [0.33333333, 0.88888889],\n",
              "       [0.80952381, 0.04444444],\n",
              "       [0.83333333, 0.65925926],\n",
              "       [0.5       , 0.2       ],\n",
              "       [0.47619048, 0.34074074],\n",
              "       [0.42857143, 0.25925926],\n",
              "       [0.42857143, 0.35555556],\n",
              "       [0.4047619 , 0.07407407],\n",
              "       [0.4047619 , 0.25925926],\n",
              "       [0.57142857, 0.42962963],\n",
              "       [0.69047619, 0.25185185],\n",
              "       [0.97619048, 0.1037037 ],\n",
              "       [0.73809524, 0.37037037],\n",
              "       [0.64285714, 0.85925926],\n",
              "       [0.30952381, 0.54814815],\n",
              "       [0.66666667, 0.4962963 ],\n",
              "       [0.69047619, 0.26666667],\n",
              "       [0.19047619, 0.        ],\n",
              "       [1.        , 0.64444444],\n",
              "       [0.47619048, 0.71851852],\n",
              "       [0.52380952, 0.68148148],\n",
              "       [0.57142857, 0.28148148],\n",
              "       [0.4047619 , 0.32592593],\n",
              "       [0.71428571, 0.19259259],\n",
              "       [0.71428571, 0.88148148],\n",
              "       [0.47619048, 0.72592593],\n",
              "       [0.26190476, 0.98518519],\n",
              "       [0.19047619, 0.        ],\n",
              "       [1.        , 0.2       ],\n",
              "       [0.14285714, 0.02962963],\n",
              "       [0.57142857, 0.99259259],\n",
              "       [0.66666667, 0.6       ],\n",
              "       [0.23809524, 0.32592593],\n",
              "       [0.5       , 0.6       ],\n",
              "       [0.23809524, 0.54814815],\n",
              "       [0.54761905, 0.42222222],\n",
              "       [0.64285714, 0.08148148],\n",
              "       [0.35714286, 0.4       ],\n",
              "       [0.04761905, 0.4962963 ],\n",
              "       [0.30952381, 0.43703704],\n",
              "       [0.57142857, 0.48148148],\n",
              "       [0.4047619 , 0.42222222],\n",
              "       [0.35714286, 0.99259259],\n",
              "       [0.52380952, 0.41481481],\n",
              "       [0.78571429, 0.97037037],\n",
              "       [0.66666667, 0.47407407],\n",
              "       [0.4047619 , 0.44444444],\n",
              "       [0.47619048, 0.26666667],\n",
              "       [0.42857143, 0.44444444],\n",
              "       [0.45238095, 0.46666667],\n",
              "       [0.47619048, 0.34074074],\n",
              "       [1.        , 0.68888889],\n",
              "       [0.04761905, 0.4962963 ],\n",
              "       [0.92857143, 0.43703704],\n",
              "       [0.57142857, 0.37037037],\n",
              "       [0.19047619, 0.48148148],\n",
              "       [0.66666667, 0.75555556],\n",
              "       [0.4047619 , 0.34074074],\n",
              "       [0.07142857, 0.39259259],\n",
              "       [0.23809524, 0.21481481],\n",
              "       [0.54761905, 0.53333333],\n",
              "       [0.45238095, 0.13333333],\n",
              "       [0.21428571, 0.55555556],\n",
              "       [0.5       , 0.2       ],\n",
              "       [0.23809524, 0.8       ],\n",
              "       [0.30952381, 0.76296296],\n",
              "       [0.16666667, 0.53333333],\n",
              "       [0.4047619 , 0.41481481],\n",
              "       [0.45238095, 0.40740741],\n",
              "       [0.4047619 , 0.17777778],\n",
              "       [0.69047619, 0.05925926],\n",
              "       [0.4047619 , 0.97777778],\n",
              "       [0.71428571, 0.91111111],\n",
              "       [0.19047619, 0.52592593],\n",
              "       [0.16666667, 0.47407407],\n",
              "       [0.80952381, 0.91111111],\n",
              "       [0.78571429, 0.05925926],\n",
              "       [0.4047619 , 0.33333333],\n",
              "       [0.35714286, 0.72592593],\n",
              "       [0.28571429, 0.68148148],\n",
              "       [0.71428571, 0.13333333],\n",
              "       [0.54761905, 0.48148148],\n",
              "       [0.71428571, 0.6       ],\n",
              "       [0.30952381, 0.02222222],\n",
              "       [0.30952381, 0.41481481],\n",
              "       [0.5952381 , 0.84444444],\n",
              "       [0.97619048, 0.45185185],\n",
              "       [0.        , 0.21481481],\n",
              "       [0.42857143, 0.76296296],\n",
              "       [0.57142857, 0.55555556],\n",
              "       [0.69047619, 0.11111111],\n",
              "       [0.19047619, 0.20740741],\n",
              "       [0.52380952, 0.46666667],\n",
              "       [0.66666667, 0.32592593],\n",
              "       [0.97619048, 0.2       ],\n",
              "       [0.66666667, 0.43703704],\n",
              "       [0.4047619 , 0.56296296],\n",
              "       [0.23809524, 0.32592593],\n",
              "       [0.52380952, 0.31111111],\n",
              "       [0.97619048, 0.94814815],\n",
              "       [0.92857143, 0.08148148],\n",
              "       [0.80952381, 0.17037037],\n",
              "       [0.69047619, 0.72592593],\n",
              "       [0.83333333, 0.94814815],\n",
              "       [0.4047619 , 0.08888889],\n",
              "       [0.95238095, 0.63703704],\n",
              "       [0.64285714, 0.22222222],\n",
              "       [0.11904762, 0.4962963 ],\n",
              "       [0.66666667, 0.05925926],\n",
              "       [0.57142857, 0.37037037],\n",
              "       [0.23809524, 0.51111111],\n",
              "       [0.47619048, 0.32592593],\n",
              "       [0.19047619, 0.51111111],\n",
              "       [0.26190476, 0.0962963 ],\n",
              "       [0.45238095, 0.41481481],\n",
              "       [0.0952381 , 0.2962963 ],\n",
              "       [0.71428571, 0.14814815],\n",
              "       [0.73809524, 0.0962963 ],\n",
              "       [0.47619048, 0.37037037],\n",
              "       [0.21428571, 0.01481481],\n",
              "       [0.66666667, 0.0962963 ],\n",
              "       [0.71428571, 0.93333333],\n",
              "       [0.19047619, 0.01481481],\n",
              "       [0.4047619 , 0.60740741],\n",
              "       [0.5       , 0.32592593],\n",
              "       [0.14285714, 0.08888889],\n",
              "       [0.33333333, 0.02222222],\n",
              "       [0.66666667, 0.54074074],\n",
              "       [0.4047619 , 0.31851852],\n",
              "       [0.9047619 , 0.33333333],\n",
              "       [0.69047619, 0.14074074],\n",
              "       [0.52380952, 0.42222222],\n",
              "       [0.33333333, 0.62962963],\n",
              "       [0.02380952, 0.04444444],\n",
              "       [0.16666667, 0.55555556],\n",
              "       [0.4047619 , 0.54074074],\n",
              "       [0.23809524, 0.12592593],\n",
              "       [0.76190476, 0.03703704],\n",
              "       [0.52380952, 0.32592593],\n",
              "       [0.76190476, 0.21481481],\n",
              "       [0.4047619 , 0.42222222],\n",
              "       [0.52380952, 0.94074074],\n",
              "       [0.66666667, 0.12592593],\n",
              "       [0.5       , 0.41481481],\n",
              "       [0.04761905, 0.43703704],\n",
              "       [0.26190476, 0.44444444],\n",
              "       [0.30952381, 0.45185185],\n",
              "       [0.69047619, 0.07407407],\n",
              "       [0.52380952, 0.34074074],\n",
              "       [0.38095238, 0.71851852],\n",
              "       [0.47619048, 0.48148148],\n",
              "       [0.57142857, 0.44444444],\n",
              "       [0.69047619, 0.23703704],\n",
              "       [0.5       , 0.44444444],\n",
              "       [0.02380952, 0.07407407],\n",
              "       [0.45238095, 0.48148148],\n",
              "       [0.42857143, 0.33333333],\n",
              "       [0.54761905, 0.27407407],\n",
              "       [0.42857143, 0.81481481],\n",
              "       [0.71428571, 0.1037037 ],\n",
              "       [0.42857143, 0.82222222],\n",
              "       [0.78571429, 0.88148148],\n",
              "       [0.21428571, 0.31111111],\n",
              "       [0.47619048, 0.41481481],\n",
              "       [0.5       , 0.34074074],\n",
              "       [0.0952381 , 0.08888889],\n",
              "       [0.35714286, 0.33333333],\n",
              "       [0.71428571, 0.43703704],\n",
              "       [0.95238095, 0.05925926],\n",
              "       [0.83333333, 0.42222222],\n",
              "       [0.33333333, 0.75555556],\n",
              "       [0.85714286, 0.40740741],\n",
              "       [0.28571429, 0.48148148],\n",
              "       [0.95238095, 0.59259259],\n",
              "       [0.19047619, 0.27407407],\n",
              "       [0.64285714, 0.47407407],\n",
              "       [0.14285714, 0.2962963 ],\n",
              "       [0.52380952, 0.44444444],\n",
              "       [0.35714286, 0.0962963 ],\n",
              "       [0.61904762, 0.91851852],\n",
              "       [0.0952381 , 0.02222222],\n",
              "       [0.35714286, 0.26666667],\n",
              "       [0.5952381 , 0.87407407],\n",
              "       [0.14285714, 0.12592593],\n",
              "       [0.66666667, 0.05185185],\n",
              "       [0.4047619 , 0.2962963 ],\n",
              "       [0.85714286, 0.65925926],\n",
              "       [0.71428571, 0.77037037],\n",
              "       [0.4047619 , 0.28148148],\n",
              "       [0.45238095, 0.95555556],\n",
              "       [0.11904762, 0.37777778],\n",
              "       [0.45238095, 0.9037037 ],\n",
              "       [0.30952381, 0.31851852],\n",
              "       [0.35714286, 0.19259259],\n",
              "       [0.64285714, 0.05185185],\n",
              "       [0.28571429, 0.        ],\n",
              "       [0.02380952, 0.02962963],\n",
              "       [0.73809524, 0.43703704],\n",
              "       [0.5       , 0.79259259],\n",
              "       [0.4047619 , 0.42962963],\n",
              "       [0.5       , 0.41481481],\n",
              "       [0.14285714, 0.05925926],\n",
              "       [0.54761905, 0.42222222],\n",
              "       [0.26190476, 0.5037037 ],\n",
              "       [0.85714286, 0.08148148],\n",
              "       [0.4047619 , 0.21481481],\n",
              "       [0.45238095, 0.44444444],\n",
              "       [0.26190476, 0.23703704],\n",
              "       [0.30952381, 0.39259259],\n",
              "       [0.57142857, 0.28888889],\n",
              "       [0.28571429, 0.88888889],\n",
              "       [0.80952381, 0.73333333],\n",
              "       [0.76190476, 0.15555556],\n",
              "       [0.9047619 , 0.87407407],\n",
              "       [0.26190476, 0.34074074],\n",
              "       [0.28571429, 0.54814815],\n",
              "       [0.19047619, 0.00740741],\n",
              "       [0.35714286, 0.11851852],\n",
              "       [0.54761905, 0.42222222],\n",
              "       [0.42857143, 0.13333333],\n",
              "       [0.88095238, 0.81481481],\n",
              "       [0.71428571, 0.85925926],\n",
              "       [0.54761905, 0.41481481],\n",
              "       [0.28571429, 0.34814815],\n",
              "       [0.45238095, 0.42222222],\n",
              "       [0.54761905, 0.35555556],\n",
              "       [0.95238095, 0.23703704],\n",
              "       [0.28571429, 0.74814815],\n",
              "       [0.04761905, 0.25185185],\n",
              "       [0.45238095, 0.43703704],\n",
              "       [0.54761905, 0.32592593],\n",
              "       [0.73809524, 0.54814815],\n",
              "       [0.23809524, 0.47407407],\n",
              "       [0.83333333, 0.4962963 ],\n",
              "       [0.52380952, 0.31111111],\n",
              "       [1.        , 0.14074074],\n",
              "       [0.4047619 , 0.68888889],\n",
              "       [0.07142857, 0.42222222],\n",
              "       [0.47619048, 0.41481481],\n",
              "       [0.5       , 0.67407407],\n",
              "       [0.45238095, 0.31111111],\n",
              "       [0.19047619, 0.42222222],\n",
              "       [0.4047619 , 0.05925926],\n",
              "       [0.85714286, 0.68888889],\n",
              "       [0.28571429, 0.01481481],\n",
              "       [0.5       , 0.88148148],\n",
              "       [0.26190476, 0.20740741],\n",
              "       [0.35714286, 0.20740741],\n",
              "       [0.4047619 , 0.17037037],\n",
              "       [0.54761905, 0.22222222],\n",
              "       [0.54761905, 0.42222222],\n",
              "       [0.5       , 0.88148148],\n",
              "       [0.21428571, 0.9037037 ],\n",
              "       [0.07142857, 0.00740741],\n",
              "       [0.19047619, 0.12592593],\n",
              "       [0.30952381, 0.37777778],\n",
              "       [0.5       , 0.42962963],\n",
              "       [0.54761905, 0.47407407],\n",
              "       [0.69047619, 0.25925926],\n",
              "       [0.54761905, 0.11111111],\n",
              "       [0.45238095, 0.57777778],\n",
              "       [1.        , 0.22962963],\n",
              "       [0.16666667, 0.05185185],\n",
              "       [0.23809524, 0.16296296],\n",
              "       [0.47619048, 0.2962963 ],\n",
              "       [0.42857143, 0.28888889],\n",
              "       [0.04761905, 0.15555556],\n",
              "       [0.9047619 , 0.65925926],\n",
              "       [0.52380952, 0.31111111],\n",
              "       [0.57142857, 0.68888889],\n",
              "       [0.04761905, 0.05925926],\n",
              "       [0.52380952, 0.37037037],\n",
              "       [0.69047619, 0.03703704],\n",
              "       [0.        , 0.52592593],\n",
              "       [0.4047619 , 0.47407407],\n",
              "       [0.92857143, 0.13333333],\n",
              "       [0.38095238, 0.42222222],\n",
              "       [0.73809524, 0.17777778],\n",
              "       [0.21428571, 0.11851852],\n",
              "       [0.02380952, 0.40740741],\n",
              "       [0.5       , 0.47407407],\n",
              "       [0.19047619, 0.48888889],\n",
              "       [0.16666667, 0.48148148],\n",
              "       [0.23809524, 0.51851852],\n",
              "       [0.88095238, 0.17777778],\n",
              "       [0.76190476, 0.54074074],\n",
              "       [0.73809524, 0.54074074],\n",
              "       [0.80952381, 1.        ],\n",
              "       [0.4047619 , 0.37037037],\n",
              "       [0.57142857, 0.28888889],\n",
              "       [0.38095238, 0.20740741],\n",
              "       [0.45238095, 0.27407407],\n",
              "       [0.71428571, 0.11111111],\n",
              "       [0.26190476, 0.20740741],\n",
              "       [0.42857143, 0.27407407],\n",
              "       [0.21428571, 0.28888889],\n",
              "       [0.19047619, 0.76296296]])"
            ]
          },
          "metadata": {},
          "execution_count": 54
        }
      ]
    },
    {
      "cell_type": "code",
      "source": [
        "from sklearn.linear_model import LogisticRegression\n",
        "model = LogisticRegression()\n",
        "model.fit(x_train,y_train)"
      ],
      "metadata": {
        "colab": {
          "base_uri": "https://localhost:8080/",
          "height": 74
        },
        "id": "02cKhIb85GEO",
        "outputId": "041980e5-312f-49d6-b1fe-434e1e8b7249"
      },
      "execution_count": null,
      "outputs": [
        {
          "output_type": "execute_result",
          "data": {
            "text/plain": [
              "LogisticRegression()"
            ],
            "text/html": [
              "<style>#sk-container-id-2 {color: black;background-color: white;}#sk-container-id-2 pre{padding: 0;}#sk-container-id-2 div.sk-toggleable {background-color: white;}#sk-container-id-2 label.sk-toggleable__label {cursor: pointer;display: block;width: 100%;margin-bottom: 0;padding: 0.3em;box-sizing: border-box;text-align: center;}#sk-container-id-2 label.sk-toggleable__label-arrow:before {content: \"▸\";float: left;margin-right: 0.25em;color: #696969;}#sk-container-id-2 label.sk-toggleable__label-arrow:hover:before {color: black;}#sk-container-id-2 div.sk-estimator:hover label.sk-toggleable__label-arrow:before {color: black;}#sk-container-id-2 div.sk-toggleable__content {max-height: 0;max-width: 0;overflow: hidden;text-align: left;background-color: #f0f8ff;}#sk-container-id-2 div.sk-toggleable__content pre {margin: 0.2em;color: black;border-radius: 0.25em;background-color: #f0f8ff;}#sk-container-id-2 input.sk-toggleable__control:checked~div.sk-toggleable__content {max-height: 200px;max-width: 100%;overflow: auto;}#sk-container-id-2 input.sk-toggleable__control:checked~label.sk-toggleable__label-arrow:before {content: \"▾\";}#sk-container-id-2 div.sk-estimator input.sk-toggleable__control:checked~label.sk-toggleable__label {background-color: #d4ebff;}#sk-container-id-2 div.sk-label input.sk-toggleable__control:checked~label.sk-toggleable__label {background-color: #d4ebff;}#sk-container-id-2 input.sk-hidden--visually {border: 0;clip: rect(1px 1px 1px 1px);clip: rect(1px, 1px, 1px, 1px);height: 1px;margin: -1px;overflow: hidden;padding: 0;position: absolute;width: 1px;}#sk-container-id-2 div.sk-estimator {font-family: monospace;background-color: #f0f8ff;border: 1px dotted black;border-radius: 0.25em;box-sizing: border-box;margin-bottom: 0.5em;}#sk-container-id-2 div.sk-estimator:hover {background-color: #d4ebff;}#sk-container-id-2 div.sk-parallel-item::after {content: \"\";width: 100%;border-bottom: 1px solid gray;flex-grow: 1;}#sk-container-id-2 div.sk-label:hover label.sk-toggleable__label {background-color: #d4ebff;}#sk-container-id-2 div.sk-serial::before {content: \"\";position: absolute;border-left: 1px solid gray;box-sizing: border-box;top: 0;bottom: 0;left: 50%;z-index: 0;}#sk-container-id-2 div.sk-serial {display: flex;flex-direction: column;align-items: center;background-color: white;padding-right: 0.2em;padding-left: 0.2em;position: relative;}#sk-container-id-2 div.sk-item {position: relative;z-index: 1;}#sk-container-id-2 div.sk-parallel {display: flex;align-items: stretch;justify-content: center;background-color: white;position: relative;}#sk-container-id-2 div.sk-item::before, #sk-container-id-2 div.sk-parallel-item::before {content: \"\";position: absolute;border-left: 1px solid gray;box-sizing: border-box;top: 0;bottom: 0;left: 50%;z-index: -1;}#sk-container-id-2 div.sk-parallel-item {display: flex;flex-direction: column;z-index: 1;position: relative;background-color: white;}#sk-container-id-2 div.sk-parallel-item:first-child::after {align-self: flex-end;width: 50%;}#sk-container-id-2 div.sk-parallel-item:last-child::after {align-self: flex-start;width: 50%;}#sk-container-id-2 div.sk-parallel-item:only-child::after {width: 0;}#sk-container-id-2 div.sk-dashed-wrapped {border: 1px dashed gray;margin: 0 0.4em 0.5em 0.4em;box-sizing: border-box;padding-bottom: 0.4em;background-color: white;}#sk-container-id-2 div.sk-label label {font-family: monospace;font-weight: bold;display: inline-block;line-height: 1.2em;}#sk-container-id-2 div.sk-label-container {text-align: center;}#sk-container-id-2 div.sk-container {/* jupyter's `normalize.less` sets `[hidden] { display: none; }` but bootstrap.min.css set `[hidden] { display: none !important; }` so we also need the `!important` here to be able to override the default hidden behavior on the sphinx rendered scikit-learn.org. See: https://github.com/scikit-learn/scikit-learn/issues/21755 */display: inline-block !important;position: relative;}#sk-container-id-2 div.sk-text-repr-fallback {display: none;}</style><div id=\"sk-container-id-2\" class=\"sk-top-container\"><div class=\"sk-text-repr-fallback\"><pre>LogisticRegression()</pre><b>In a Jupyter environment, please rerun this cell to show the HTML representation or trust the notebook. <br />On GitHub, the HTML representation is unable to render, please try loading this page with nbviewer.org.</b></div><div class=\"sk-container\" hidden><div class=\"sk-item\"><div class=\"sk-estimator sk-toggleable\"><input class=\"sk-toggleable__control sk-hidden--visually\" id=\"sk-estimator-id-2\" type=\"checkbox\" checked><label for=\"sk-estimator-id-2\" class=\"sk-toggleable__label sk-toggleable__label-arrow\">LogisticRegression</label><div class=\"sk-toggleable__content\"><pre>LogisticRegression()</pre></div></div></div></div></div>"
            ]
          },
          "metadata": {},
          "execution_count": 55
        }
      ]
    },
    {
      "cell_type": "code",
      "source": [
        "y_pred = model.predict(x_test)\n",
        "y_pred  #predicted output"
      ],
      "metadata": {
        "colab": {
          "base_uri": "https://localhost:8080/"
        },
        "id": "0LqLcCpC5j-D",
        "outputId": "f3c1c99e-2c0c-4e98-8b66-d532d7a29223"
      },
      "execution_count": null,
      "outputs": [
        {
          "output_type": "execute_result",
          "data": {
            "text/plain": [
              "array([0, 0, 0, 0, 0, 0, 0, 1, 0, 0, 0, 0, 0, 0, 0, 0, 0, 0, 1, 0, 0, 1,\n",
              "       0, 1, 0, 1, 0, 0, 0, 0, 0, 0, 1, 0, 0, 0, 0, 0, 0, 0, 0, 0, 0, 0,\n",
              "       1, 0, 0, 1, 0, 1, 1, 0, 0, 0, 1, 0, 0, 0, 0, 0, 0, 1, 0, 0, 0, 1,\n",
              "       0, 0, 0, 0, 1, 0, 0, 0, 0, 0, 0, 0, 1, 1, 1, 1, 0, 0, 1, 0, 0, 1,\n",
              "       0, 0, 0, 1, 0, 0, 0, 0, 0, 0, 1, 1])"
            ]
          },
          "metadata": {},
          "execution_count": 56
        }
      ]
    },
    {
      "cell_type": "code",
      "source": [
        "print(np.unique(y_pred,return_counts=True))"
      ],
      "metadata": {
        "colab": {
          "base_uri": "https://localhost:8080/"
        },
        "id": "HQV8PoTz5x0o",
        "outputId": "dc0ca88c-0720-4a19-a288-091e99941e41"
      },
      "execution_count": null,
      "outputs": [
        {
          "output_type": "stream",
          "name": "stdout",
          "text": [
            "(array([0, 1]), array([77, 23]))\n"
          ]
        }
      ]
    },
    {
      "cell_type": "code",
      "source": [
        "y_test"
      ],
      "metadata": {
        "colab": {
          "base_uri": "https://localhost:8080/"
        },
        "id": "tHd-j7sD5nTq",
        "outputId": "925330dd-0399-42b9-eb6e-0cbeefe74f92"
      },
      "execution_count": null,
      "outputs": [
        {
          "output_type": "execute_result",
          "data": {
            "text/plain": [
              "array([0, 0, 0, 0, 0, 0, 0, 1, 0, 0, 0, 0, 0, 0, 0, 0, 0, 0, 1, 0, 0, 1,\n",
              "       0, 1, 0, 1, 0, 0, 0, 0, 0, 1, 1, 0, 0, 0, 0, 0, 0, 1, 0, 0, 0, 0,\n",
              "       1, 0, 0, 1, 0, 1, 1, 0, 0, 0, 1, 1, 0, 0, 1, 0, 0, 1, 0, 1, 0, 1,\n",
              "       0, 0, 0, 0, 1, 0, 0, 1, 0, 0, 0, 0, 1, 1, 1, 0, 0, 0, 1, 1, 0, 1,\n",
              "       1, 0, 0, 1, 0, 0, 0, 1, 0, 1, 1, 1])"
            ]
          },
          "metadata": {},
          "execution_count": 58
        }
      ]
    },
    {
      "cell_type": "code",
      "source": [
        "print(np.unique(y_test,return_counts=True))"
      ],
      "metadata": {
        "colab": {
          "base_uri": "https://localhost:8080/"
        },
        "id": "YoUndsBH5s_5",
        "outputId": "e0773f21-a720-4b8e-d5ee-6735c512bf6b"
      },
      "execution_count": null,
      "outputs": [
        {
          "output_type": "stream",
          "name": "stdout",
          "text": [
            "(array([0, 1]), array([68, 32]))\n"
          ]
        }
      ]
    },
    {
      "cell_type": "code",
      "source": [
        "from sklearn.metrics import accuracy_score\n",
        "accuracy_score(y_test,y_pred)"
      ],
      "metadata": {
        "colab": {
          "base_uri": "https://localhost:8080/"
        },
        "id": "yBrLZKfP5q9_",
        "outputId": "89cfbd09-b264-47fd-f190-8877fbe32e00"
      },
      "execution_count": null,
      "outputs": [
        {
          "output_type": "execute_result",
          "data": {
            "text/plain": [
              "0.89"
            ]
          },
          "metadata": {},
          "execution_count": 60
        }
      ]
    },
    {
      "cell_type": "code",
      "source": [
        "# metrics for classification - confusion matrix , accuracy, precision, recall,f1-score,   classification_report"
      ],
      "metadata": {
        "id": "xssvMPi6-LZS"
      },
      "execution_count": null,
      "outputs": []
    },
    {
      "cell_type": "code",
      "source": [
        "from sklearn.metrics import confusion_matrix,classification_report\n",
        "confusion_matrix(y_test,y_pred)"
      ],
      "metadata": {
        "colab": {
          "base_uri": "https://localhost:8080/"
        },
        "id": "pqBXCqLb53ye",
        "outputId": "89b304f8-9946-4fcb-dff4-7d3c555cd3fe"
      },
      "execution_count": null,
      "outputs": [
        {
          "output_type": "execute_result",
          "data": {
            "text/plain": [
              "array([[67,  1],\n",
              "       [10, 22]])"
            ]
          },
          "metadata": {},
          "execution_count": 62
        }
      ]
    },
    {
      "cell_type": "code",
      "source": [
        "# TRUE POSITIVE (67)  - 67 values correctly predicted as 1\n",
        "# FALSE POSITIVE (1)  -  1 value wrongly predicted as 1\n",
        "# FALSE NEGATIVE (10) - 10 values wrongly predicted as 0\n",
        "# TRUE NEGATIVE (22)  - 22 values correctly predicted as 0\n",
        "\n",
        "# POSITIVE - 1\n",
        "# NEGATIVE - 0\n",
        "\n",
        "# TRUE - correctly predicted\n",
        "# FALSE - Wrongly predicted"
      ],
      "metadata": {
        "id": "3y_PoPnk6CIg"
      },
      "execution_count": null,
      "outputs": []
    },
    {
      "cell_type": "code",
      "source": [
        "# If the dataset is balanced (purchased - 1, not purchased -0)(very almost equal in number)then only accuracy can be used\n",
        "# If the dataset is imbalanced values not almost equal in number then accuracy, precision,recall, f1-score)\n"
      ],
      "metadata": {
        "id": "8bwP4ojD73Qo"
      },
      "execution_count": null,
      "outputs": []
    },
    {
      "cell_type": "code",
      "source": [
        "# ACCURACY\n",
        "accuracy = (67+22)/(67+1+10+22)\n",
        "accuracy"
      ],
      "metadata": {
        "colab": {
          "base_uri": "https://localhost:8080/"
        },
        "id": "SEDLYqil871X",
        "outputId": "aced8f8b-eca4-45c3-bb49-606f9d2bc437"
      },
      "execution_count": null,
      "outputs": [
        {
          "output_type": "execute_result",
          "data": {
            "text/plain": [
              "0.89"
            ]
          },
          "metadata": {},
          "execution_count": 65
        }
      ]
    },
    {
      "cell_type": "code",
      "source": [
        "#PRECISION\n",
        "precision = (67)/(67+1)\n",
        "precision"
      ],
      "metadata": {
        "colab": {
          "base_uri": "https://localhost:8080/"
        },
        "id": "8iQw-5sj9U_L",
        "outputId": "a7e578e4-8ab7-4738-9385-7b57ced031e1"
      },
      "execution_count": null,
      "outputs": [
        {
          "output_type": "execute_result",
          "data": {
            "text/plain": [
              "0.9852941176470589"
            ]
          },
          "metadata": {},
          "execution_count": 66
        }
      ]
    },
    {
      "cell_type": "code",
      "source": [
        "#RECALL\n",
        "recall = 67/(67+10)\n",
        "recall"
      ],
      "metadata": {
        "colab": {
          "base_uri": "https://localhost:8080/"
        },
        "id": "LpAwJSiW-CY2",
        "outputId": "b4729452-8d11-41fb-baf2-dfa4cddb5e70"
      },
      "execution_count": null,
      "outputs": [
        {
          "output_type": "execute_result",
          "data": {
            "text/plain": [
              "0.8701298701298701"
            ]
          },
          "metadata": {},
          "execution_count": 67
        }
      ]
    },
    {
      "cell_type": "code",
      "source": [
        "#F1-SCORE\n",
        "f1_score = 2*((precision*recall)/(precision+recall))\n",
        "f1_score"
      ],
      "metadata": {
        "colab": {
          "base_uri": "https://localhost:8080/"
        },
        "id": "pD3ZG8bs-IvX",
        "outputId": "18a1930a-b38c-4018-db8d-0f40d8c79567"
      },
      "execution_count": null,
      "outputs": [
        {
          "output_type": "execute_result",
          "data": {
            "text/plain": [
              "0.9241379310344828"
            ]
          },
          "metadata": {},
          "execution_count": 68
        }
      ]
    },
    {
      "cell_type": "code",
      "source": [
        "print(classification_report(y_test,y_pred))"
      ],
      "metadata": {
        "colab": {
          "base_uri": "https://localhost:8080/"
        },
        "id": "0nWT1v_C-jKO",
        "outputId": "dbcce2cd-7395-431f-e5b4-048ab7fefd76"
      },
      "execution_count": null,
      "outputs": [
        {
          "output_type": "stream",
          "name": "stdout",
          "text": [
            "              precision    recall  f1-score   support\n",
            "\n",
            "           0       0.87      0.99      0.92        68\n",
            "           1       0.96      0.69      0.80        32\n",
            "\n",
            "    accuracy                           0.89       100\n",
            "   macro avg       0.91      0.84      0.86       100\n",
            "weighted avg       0.90      0.89      0.88       100\n",
            "\n"
          ]
        }
      ]
    },
    {
      "cell_type": "code",
      "source": [
        "# K NEAREST NEIGHBORS ALGORITHM  (KNN)"
      ],
      "metadata": {
        "id": "-H2zxmep_EbG"
      },
      "execution_count": null,
      "outputs": []
    },
    {
      "cell_type": "code",
      "source": [],
      "metadata": {
        "id": "Mxj02A-cAD9L"
      },
      "execution_count": null,
      "outputs": []
    }
  ]
}